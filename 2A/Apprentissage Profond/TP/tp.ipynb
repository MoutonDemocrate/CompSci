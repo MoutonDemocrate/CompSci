{
  "cells": [
    {
      "cell_type": "markdown",
      "metadata": {
        "id": "OLMI3JfoEcl1"
      },
      "source": [
        "*Pendant les 3 premières séances de TP, nous allons mettre en pratique certaines des méthodes présentées en cours pour détecter des objets dans une image.*"
      ]
    },
    {
      "cell_type": "markdown",
      "metadata": {
        "id": "kxZ6cVouz9Lp"
      },
      "source": [
        "# Localisation et classification d'objet\n",
        "\n",
        "\n"
      ]
    },
    {
      "cell_type": "markdown",
      "metadata": {
        "id": "Kd4SVfDxz5aw"
      },
      "source": [
        "## Introduction\n",
        "\n",
        "Dans cette partie, nous allons nous concentrer sur le problème de la localisation d'un seul objet par classe. La base de données a été épurée pour se concentrer uniquement sur ce cas.\n",
        "\n",
        "En localisation et détection, on cherche à déterminer la position d'un objet, ainsi que sa classe, sous la forme d'une boîte englobante de largeur $b_w$ et hauteur $b_h$, et dont le centre a pour coordonnées le point $(b_x, b_y)$.\n",
        "\n",
        "<center> <img src=\"https://drive.google.com/uc?id=1_jHHv6ZDe-3Xz25jIZ6o177laBEfmMRR\" style=\"width:500;height:300px;\"></center>\n",
        "<caption><center> Figure 1: Modèle de boîte englobante utilisé pour la localisation </center></caption>\n",
        "\n",
        "Le problème de localisation considère qu'un seul objet est présent sur l'image, alors que le problème de détection cherche à déterminer l'ensemble des objets présents sur l'image.\n",
        "\n",
        "\n",
        "\n",
        "Pour commencer, récupérez les images de la base de données :\n"
      ]
    },
    {
      "cell_type": "code",
      "execution_count": 1,
      "metadata": {
        "id": "2ZjveWpbuNeV"
      },
      "outputs": [
        {
          "name": "stdout",
          "output_type": "stream",
          "text": [
            "fatal: destination path 'mangeoires_loc' already exists and is not an empty directory.\n"
          ]
        }
      ],
      "source": [
        "!git clone https://github.com/axelcarlier/mangeoires_loc.git"
      ]
    },
    {
      "cell_type": "markdown",
      "metadata": {
        "id": "LF6aRZLE2-Yl"
      },
      "source": [
        "La base de données consiste en des photographies prises par une caméra reliée à une Raspberry Pi, cachée dans une mangeoire. Plusieurs mangeoires sont disséminées dans la nature en Occitanie, et l'objectif de [ce projet](https://econect.cnrs.fr/) est la reconnaissance des espèces et le comptage des individus qui viennent se poser devant le caméra, afin de suivre l'évolution des populations d'oiseaux et ainsi monitorer la biodiversité.\n",
        "\n",
        "La base de données qui vous est fournie regroupe 11 espèces d'animaux, majoritairement des oiseaux, désignés par un code :\n",
        "\n",
        "1. Mésange charbonnière (**MESCHA**)\n",
        "2. Verdier d'Europe (**VEREUR**)\n",
        "3. Écureuil roux (**ECUROU**)\n",
        "4. Pie bavarde (**PIEBAV**)\n",
        "5. Sittelle torchepot (**SITTOR**)\n",
        "6. Pinson des arbres (**PINARB**)\n",
        "7. Mésange noire (**MESNOI**)\n",
        "8. Mésange nonnette (**MESNON**)\n",
        "9. Mésange bleue (**MESBLE**)\n",
        "10. Rouge-gorge (**ROUGOR**)\n",
        "11. Accenteur mouchet (**ACCMOU**)\n",
        "\n",
        "\n",
        "\n",
        "<center> <img src=\"https://drive.google.com/uc?id=1Eit86N4D0Ea7ai1rBa0o-GmTwckhP9i0\" width=200>\n",
        "<img src=\"https://drive.google.com/uc?id=1lC7WL93UqDT_KV2m21yx99N5dkf98nCY\" width=200>\n",
        "<img src=\"https://drive.google.com/uc?id=10tzJORcSrSckDWmBDBtc8FUirxdbRxri\" width=200>\n",
        "<img src=\"https://drive.google.com/uc?id=1IHZp_B6bc8bADtAReRHhcyOjDQZAXDBQ\" width=200></center>\n",
        "<caption><center> Figure 2: Exemples d'images de la base de données </center></caption>"
      ]
    },
    {
      "cell_type": "code",
      "execution_count": 4,
      "metadata": {
        "id": "SBA3fa8RSDpt"
      },
      "outputs": [
        {
          "name": "stderr",
          "output_type": "stream",
          "text": [
            "Matplotlib is building the font cache; this may take a moment.\n",
            "2025-03-05 14:11:59.576099: I tensorflow/core/platform/cpu_feature_guard.cc:210] This TensorFlow binary is optimized to use available CPU instructions in performance-critical operations.\n",
            "To enable the following instructions: SSE3 SSE4.1 SSE4.2 AVX AVX2 FMA, in other operations, rebuild TensorFlow with the appropriate compiler flags.\n"
          ]
        }
      ],
      "source": [
        "import PIL\n",
        "from PIL import Image\n",
        "import csv\n",
        "import numpy as np\n",
        "import matplotlib.pyplot as plt\n",
        "\n",
        "import tensorflow as tf\n",
        "\n",
        "from tensorflow import keras\n",
        "from tensorflow.keras import layers\n",
        "from tensorflow.keras import models\n",
        "from tensorflow.keras.layers import Dense, Conv2D, MaxPooling2D, Flatten, Dropout, Input\n",
        "from tensorflow.keras.models import Model, Sequential\n",
        "from tensorflow.keras.optimizers import Adam\n"
      ]
    },
    {
      "cell_type": "markdown",
      "metadata": {
        "id": "HKRm5oT-_Qsw"
      },
      "source": [
        "## Préparation des données\n",
        "\n",
        "Le code ci-dessous permet de charger les données et les formater pour la classification. Prenez le temps de regarder un peu le format des labels $y$.\n",
        "Notez que les images sont rendues carrées lors du chargement."
      ]
    },
    {
      "cell_type": "code",
      "execution_count": 5,
      "metadata": {
        "id": "Q54zSuMvGM-5"
      },
      "outputs": [
        {
          "name": "stdout",
          "output_type": "stream",
          "text": [
            "['MESCHA', 'VEREUR', 'ECUROU', 'PIEBAV', 'SITTOR', 'PINARB', 'MESNOI', 'MESNON', 'MESBLE', 'ROUGOR', 'ACCMOU']\n"
          ]
        }
      ],
      "source": [
        "# Lecture du CSV contenant les informations relatives à la base de données\n",
        "dataset = []\n",
        "with open('mangeoires_loc/bd_mangeoires_equilibre.csv', newline='') as csvfile:\n",
        "\tfilereader = csv.reader(csvfile, delimiter=' ', quotechar='|')\n",
        "\tfor row in filereader:\n",
        "\t\tdata = row[0].split(',')\n",
        "\t\tif data[0] != 'Data':\n",
        "\t\t\tbox = [float(data[5]), float(data[6]), float(data[7]), float(data[8])]\n",
        "\t\t\tnew_entry = {'type': data[0], 'specie': data[1], 'path': data[2], 'shape': [float(data[3]), float(data[4])], 'box': box}\n",
        "\t\t\tdataset.append(new_entry)\n",
        "\n",
        "# Nombre de classes de la base de données et intitulé des classes\n",
        "class_labels = list(dict.fromkeys([item['specie'] for item in dataset]))\n",
        "num_classes = len(class_labels)\n",
        "\n",
        "# Extraction des données d'apprentissage et de test\n",
        "dataset_train = [item for item in dataset if item['type']=='TRAIN']\n",
        "dataset_test = [item for item in dataset if item['type']=='TEST']\n",
        "\n",
        "print(class_labels)"
      ]
    },
    {
      "cell_type": "code",
      "execution_count": 6,
      "metadata": {
        "id": "JPzqdJBVJLWJ"
      },
      "outputs": [],
      "source": [
        "def build_localization_tensors(image_size, dataset, num_classes):\n",
        "  # Préparation des structures de données pour x et y\n",
        "  x = np.zeros((len(dataset), image_size, image_size, 3))\n",
        "  y = np.empty((len(dataset), num_classes + 5)) # 1 + 4 + num_classes : présence / boîte englobante / classes\n",
        "\n",
        "  # Compteur de parcours du dataset\n",
        "  i = 0\n",
        "\n",
        "  for item in dataset:\n",
        "    # Lecture de l'image\n",
        "    img = Image.open('mangeoires_loc/' + item['path'])\n",
        "    # Mise à l'échelle de l'image\n",
        "    img = img.resize((image_size,image_size), Image.Resampling.LANCZOS)\n",
        "    # Remplissage de la variable x\n",
        "    x[i] = np.asarray(img)\n",
        "\n",
        "    y[i, 0] = 1 # Un objet est toujours présent !\n",
        "\n",
        "    # Coordonnées de boîte englobante\n",
        "    img_shape = item['shape']\n",
        "    box = item['box']\n",
        "    bx = (box[0] + (box[2] - box[0])/2)/img_shape[0]\n",
        "    by = (box[1] + (box[3] - box[1])/2)/img_shape[1]\n",
        "    bw = (box[2] - box[0])/img_shape[0]\n",
        "    bh = (box[3] - box[1])/img_shape[1]\n",
        "    y[i, 1] = bx\n",
        "    y[i, 2] = by\n",
        "    y[i, 3] = bw\n",
        "    y[i, 4] = bh\n",
        "\n",
        "    # Probabilités de classe, sous la forme d'une one-hot vector\n",
        "    label = class_labels.index(item['specie'])\n",
        "    classes_probabilities = keras.utils.to_categorical(label, num_classes=num_classes)\n",
        "    y[i, 5:] = classes_probabilities\n",
        "\n",
        "    i = i+1\n",
        "\n",
        "  return x, y\n"
      ]
    },
    {
      "cell_type": "markdown",
      "metadata": {
        "id": "fnlljZWc_i1L"
      },
      "source": [
        "Séparation des données d'entraînement pour extraire un ensemble de validation, et pré-traitement des données."
      ]
    },
    {
      "cell_type": "code",
      "execution_count": null,
      "metadata": {
        "id": "FJLRiuFX_VPL"
      },
      "outputs": [],
      "source": [
        "from sklearn.model_selection import train_test_split\n",
        "\n",
        "\n",
        "# Pour la suite du TP on considèrera des images de taille 64x64x3\n",
        "# Augmenter cette valeur donnerait de meilleurs résultats mais nécessiterait des calculs plus long.\n",
        "IMAGE_SIZE = 64\n",
        "\n",
        "# Lecture des données d'entraînement et de test\n",
        "x, y = build_localization_tensors(IMAGE_SIZE, dataset_train, num_classes)\n",
        "x_test, y_test = build_localization_tensors(IMAGE_SIZE, dataset_test, num_classes)\n",
        "\n",
        "#Extraction d'un ensemble de validation\n",
        "x_train, x_val, y_train, y_val = train_test_split(x, y, test_size=0.10, random_state=42)\n",
        "\n",
        "# Pour améliorer l'entraînement, on peut centrer-réduire les coordonnées des bounding boxes...\n",
        "y_std = np.std(y_train, axis=0)\n",
        "y_mean = np.mean(y_train, axis=0)\n",
        "y_train[...,1:5] = (y_train[...,1:5] - y_mean[1:5])/y_std[1:5]\n",
        "y_val[...,1:5] = (y_val[...,1:5] - y_mean[1:5])/y_std[1:5]\n",
        "y_test[...,1:5] = (y_test[...,1:5] - y_mean[1:5])/y_std[1:5]\n",
        "\n",
        "# ... et normaliser les valeurs de couleur\n",
        "x_train = x_train/255\n",
        "x_val = x_val/255\n",
        "x_test = x_test/255"
      ]
    },
    {
      "cell_type": "markdown",
      "metadata": {
        "id": "DE4wQYq3AKnA"
      },
      "source": [
        "## Fonctions utiles"
      ]
    },
    {
      "cell_type": "markdown",
      "metadata": {
        "id": "n6NBpMtaM-C0"
      },
      "source": [
        "Une fonction de calcul de l'intersection sur union, qui nous sera utile pour les métriques d'évaluation de nos méthodes :\n",
        "\n",
        "$$ IoU (R_1, R_2) = \\frac{\\mathcal{A} (R_1 \\cap R_2)}{\\mathcal{A} (R_1 \\cup R_2)} = \\frac{\\mathcal{A} (R_1 \\cap R_2)}{\\mathcal{A} (R_1) + \\mathcal{A} (R_2) -  \\mathcal{A} (R_1 \\cap R_2)} $$\n",
        "\n",
        "<center>\n",
        "<img src=\"https://drive.google.com/uc?id=1BQx2kDOCltZ_5gcnKVWTVUVNmGk-7qBC\" width=500>\n",
        "</center>\n"
      ]
    },
    {
      "cell_type": "code",
      "execution_count": null,
      "metadata": {
        "id": "rr-O1XuwLoL3"
      },
      "outputs": [],
      "source": [
        "### A COMPLETER\n",
        "def intersection_sur_union(box1, box2):\n",
        "  \"\"\"\n",
        "  Calcul de l'intersection sur union entre deux rectangles box1 et box2\n",
        "\n",
        "  Arguments:\n",
        "  box1, box2 -- les coordonnées des deux rectangles, chacun sous la forme [cx, cy, w, h]\n",
        "                où (cx, cy) désigne les coordonnées du centre du rectangle,\n",
        "                w sa largeur et h sa hauteur\n",
        "\n",
        "  Retourne :\n",
        "  iou -- la valeur d'intersection sur union entre les deux rectangles\n",
        "  \"\"\"\n",
        "\n",
        "  def union(box1,box2) :\n",
        "    if \n"
      ]
    },
    {
      "cell_type": "markdown",
      "metadata": {
        "id": "QmOmOert8bEm"
      },
      "source": [
        "Exécutez le bloc suivant pour vérifier votre implémentation :"
      ]
    },
    {
      "cell_type": "code",
      "execution_count": null,
      "metadata": {
        "id": "2KOhbBB67hx3"
      },
      "outputs": [],
      "source": [
        "print(intersection_sur_union([2.5, 2, 1, 4], [2, 3, 4, 2]))  # Résultat attendu : 0.2\n",
        "print(intersection_sur_union([2.5, 2, 1, 4], [5, 3, 4, 2]))  # Résultat attendu : 0.0"
      ]
    },
    {
      "cell_type": "markdown",
      "metadata": {
        "id": "RLpMJGi3QC9i"
      },
      "source": [
        "On va maintenant calculer les différentes métriques :\n",
        "\n",
        "$$ P = \\frac{TP}{TP + FP} $$\n",
        "\n",
        "$$ R = \\frac{TP}{TP + FN} $$\n",
        "\n",
        "$$ F1 = \\frac{2 * P * R}{P + R} $$\n",
        "\n",
        "où $TP$ désigne le nombre de vrais positifs, $FP$ le nombre de faux positifs, $FN$ le nombre de faux négatifs, $P$ la précision, $R$ le rappel et $F1$ le F1-score.\n",
        "\n",
        "On considère souvent qu'une détection est correcte si la classification est valide et que l'intersection sur union entre vérité terrain et prédiction est supérieure à 0.5 (on utilisera un seuil modifiable *iou_thres*)."
      ]
    },
    {
      "cell_type": "code",
      "execution_count": null,
      "metadata": {
        "id": "5e_aIvjXLq32"
      },
      "outputs": [],
      "source": [
        "# On considère souvent qu'une détection est correcte si la classification est valide et que\n",
        "# l'intersection sur union entre vérité terrain et prédiction est supérieure à 0.5\n",
        "def global_accuracy(y_true, y_pred, iou_thres=0.5):\n",
        "  \"\"\"\n",
        "  Calcul, pour chaque classe de la précision, du rappel et du F1-score ainsi\n",
        "  que du pourcentage global de bonnes détections.\n",
        "\n",
        "  Arguments:\n",
        "  y_true -- les labels de la vérité terrain, de dimension (M, 1+4+N) où M désigne\n",
        "          le nombre d'éléments du dataset et N le nombre de classes (11 dans notre cas)\n",
        "  y_pred -- les labels prédits par un modèle, de dimension (M, 1+4+N)\n",
        "  iou_thres -- seuil d'intersection sur union entre une boîte \"vérité-terrain\" et\n",
        "              une boite prédite au-dessus duquel on considère que la prédiction est correcte\n",
        "\n",
        "  Retourne :\n",
        "  class_res -- liste de longueur N contenant des dictionnaires sous la forme\n",
        "            {\"Précision\": p, \"Rappel\": r, \"F-score\": f} résumant les métriques\n",
        "            précision, rappel et F1-score pour chacune des classes.\n",
        "  accuracy -- pourcentage global de bonnes détections\n",
        "  \"\"\"\n",
        "  # Initialisation des métriques : nombre de vrais positifs (TP), faux positifs (FP)\n",
        "  # et faux négatifs (FN) pour chaque classe\n",
        "  class_metrics = []\n",
        "  for i in range(num_classes):\n",
        "    class_metrics.append({'TP': 0, 'FP': 0, 'FN': 0})\n",
        "\n",
        "  # Nombres de détections correctes et de détections incorrectes\n",
        "  total_correct_detections = 0\n",
        "  toal_incorrect_detections = 0\n",
        "  for i in range(y_true.shape[0]):\n",
        "    # Labels vérité-terrain et prédits\n",
        "    groundtruth_label = np.argmax(y_true[i,5:])\n",
        "    predicted_label = np.argmax(y_pred[i,5:])\n",
        "\n",
        "    # Coordonnées de boîtes englobantes réelles et prédites\n",
        "    bx_true = (y_true[i,1]*y_std[1] + y_mean[1])\n",
        "    by_true = (y_true[i,2]*y_std[2] + y_mean[2])\n",
        "    bw_true = (y_true[i,3]*y_std[3] + y_mean[3])\n",
        "    bh_true = (y_true[i,4]*y_std[4] + y_mean[4])\n",
        "    bx_pred = (y_pred[i,1]*y_std[1] + y_mean[1])\n",
        "    by_pred = (y_pred[i,2]*y_std[2] + y_mean[2])\n",
        "    bw_pred = (y_pred[i,3]*y_std[3] + y_mean[3])\n",
        "    bh_pred = (y_pred[i,4]*y_std[4] + y_mean[4])\n",
        "\n",
        "    # Calcul de l'intersection sur union\n",
        "    iou = intersection_sur_union([bx_true, by_true, bw_true, bh_true], [bx_pred, by_pred, bw_pred, bh_pred])\n",
        "\n",
        "    ### A COMPLETER\n",
        "    # Si la détection est correcte :\n",
        "    if groundtruth_label == predicted_label and iou > iou_thres:\n",
        "      # Mettre à jour le nombre de Vrais Positifs pour la classe vérité terrain :\n",
        "      # class_metrics[class_id]['TP']=...\n",
        "      ...\n",
        "    else:\n",
        "      # Mettre à jour le nombre de Faux Positifs et/ou Faux Négatifs pour les\n",
        "      # classes concernées\n",
        "      ...\n",
        "\n",
        "  class_res = []\n",
        "  for i in range(num_classes):\n",
        "    # Pour chaque classe, on veut calculer Précision, Rappel et F1-Score à partir\n",
        "    # des TP, FP et FN calculés sur le bloc précédent\n",
        "    P = ...\n",
        "    R = ...\n",
        "    F_score = ...\n",
        "    class_res.append({'Precision': P, 'Rappel': R, 'F-score': F_score})\n",
        "\n",
        "  accuracy = ...\n",
        "  ### FIN\n",
        "  return class_res, accuracy"
      ]
    },
    {
      "cell_type": "code",
      "execution_count": null,
      "metadata": {
        "id": "MSU6oPWpkVfg"
      },
      "outputs": [],
      "source": [
        "num_class_test = 3\n",
        "class_labels_test = ['Classe 1', 'Classe 2', 'Classe 3']\n",
        "y_true_test = np.ones((num_class_test,8))\n",
        "y_true_test[0,:2] = [0.5, 0.5]\n",
        "y_true_test[0, 5:] = [1, 0, 0]\n",
        "y_true_test[1,:2] = [0.5, 0.5]\n",
        "y_true_test[1, 5:] = [0, 1, 0]\n",
        "y_true_test[2,:2] = [0.5, 0.5]\n",
        "y_true_test[2, 5:] = [0, 0, 1]\n",
        "y_pred_test = np.ones((num_class_test,8))\n",
        "y_pred_test[0,:2] = [0.6, 0.6]\n",
        "y_pred_test[0, 5:] = [1, 0, 0]\n",
        "y_pred_test[1,:2] = [2.5, 2.5]\n",
        "y_pred_test[1, 5:] = [0, 0, 1]\n",
        "y_pred_test[2,:2] = [0.6, 0.6]\n",
        "y_pred_test[2, 5:] = [0, 0, 1]\n",
        "\n",
        "class_res_test, acc_test = global_accuracy(y_true_test, y_pred_test)\n",
        "\n",
        "print(f\"La précision globale est de {acc_test:.1f}%\")\n",
        "\n",
        "print()\n",
        "print(\"--------------------------------------------\")\n",
        "print(\"|  Classe  | Précision | Rappel | F1-score |\")\n",
        "print(\"--------------------------------------------\")\n",
        "for i in range(num_class_test):\n",
        "  print(f\"| {class_labels_test[i]:9s}|   {class_res_test[i]['Precision']:.2f}    |  {class_res_test[i]['Rappel']:.2f}  |   {class_res_test[i]['F-score']:.2f}   |\")\n",
        "  print(\"--------------------------------------------\")"
      ]
    },
    {
      "cell_type": "markdown",
      "metadata": {
        "id": "0fhT7tYlkW_I"
      },
      "source": [
        "**Affichage attendu :**\n",
        "```\n",
        "La précision globale est de 66.7%\n",
        "\n",
        "--------------------------------------------\n",
        "|  Classe  | Précision | Rappel | F1-score |\n",
        "--------------------------------------------\n",
        "| Classe 1 |   1.00    |  1.00  |   1.00   |\n",
        "--------------------------------------------\n",
        "| Classe 2 |   0.00    |  0.00  |   0.00   |\n",
        "--------------------------------------------\n",
        "| Classe 3 |   0.50    |  1.00  |   0.67   |\n",
        "--------------------------------------------\n",
        "```"
      ]
    },
    {
      "cell_type": "markdown",
      "metadata": {
        "id": "cMntCEgkANMg"
      },
      "source": [
        "La fonction ci-dessous permet de calculer l'intersection sur union  sur des tenseurs (et non des tableaux numpy), elle sera donc utilisable comme métrique pendant l'entraînement."
      ]
    },
    {
      "cell_type": "code",
      "execution_count": null,
      "metadata": {
        "id": "tVk9cB1WAMUK"
      },
      "outputs": [],
      "source": [
        "def compute_iou(y_true, y_pred):\n",
        "  ### \"Dénormalisation\" des coordonnées des boîtes englobantes\n",
        "  pred_box_xy = y_pred[..., 0:2]* y_std[0:2] + y_mean[0:2]\n",
        "  true_box_xy = y_true[..., 0:2]* y_std[0:2] + y_mean[0:2]\n",
        "\n",
        "  ### \"Dénormalisation\" des largeur et hauteur des boîtes englobantes\n",
        "  pred_box_wh = y_pred[..., 2:4] * y_std[2:4] + y_mean[2:4]\n",
        "  true_box_wh = y_true[..., 2:4] * y_std[2:4] + y_mean[2:4]\n",
        "\n",
        "  # Calcul des coordonnées minimales et maximales des boiptes englobantes réelles\n",
        "  true_wh_half = true_box_wh / 2.\n",
        "  true_mins    = true_box_xy - true_wh_half\n",
        "  true_maxes   = true_box_xy + true_wh_half\n",
        "\n",
        "  # Calcul des coordonnées minimales et maximales des boiptes englobantes prédites\n",
        "  pred_wh_half = pred_box_wh / 2.\n",
        "  pred_mins    = pred_box_xy - pred_wh_half\n",
        "  pred_maxes   = pred_box_xy + pred_wh_half\n",
        "\n",
        "  # Détermination de l'intersection des boîtes englobantes\n",
        "  intersect_mins  = tf.maximum(pred_mins,  true_mins)\n",
        "  intersect_maxes = tf.minimum(pred_maxes, true_maxes)\n",
        "  intersect_wh    = tf.maximum(intersect_maxes - intersect_mins, 0.)\n",
        "  intersect_areas = intersect_wh[..., 0] * intersect_wh[..., 1]\n",
        "\n",
        "  # Aire des boîtes englobantes prédites et réelles\n",
        "  true_areas = true_box_wh[..., 0] * true_box_wh[..., 1]\n",
        "  pred_areas = pred_box_wh[..., 0] * pred_box_wh[..., 1]\n",
        "\n",
        "  # Aire de l'union des boîtes prédites et réelles\n",
        "  union_areas = pred_areas + true_areas - intersect_areas\n",
        "\n",
        "  iou_scores  = tf.truediv(intersect_areas, union_areas)\n",
        "  return iou_scores\n",
        "\n",
        "def iou():\n",
        "  def iou_metrics(y_true, y_pred):\n",
        "    return compute_iou(y_true, y_pred)\n",
        "  iou_metrics.__name__= \"iou\"\n",
        "  return iou_metrics"
      ]
    },
    {
      "cell_type": "markdown",
      "metadata": {
        "id": "vidE3XHlAkst"
      },
      "source": [
        "Visualisation des données et labels"
      ]
    },
    {
      "cell_type": "code",
      "execution_count": null,
      "metadata": {
        "id": "8yotZHKgAiV1"
      },
      "outputs": [],
      "source": [
        "# Si seuls x et y sont indiqués, on tire au hasard un numéro d'image et on affiche le label y associé  à l'image\n",
        "# Si un 2e y, nommé y_pred, est indiqué, alors les deux labels sont affichés côte à côte, afin de pouvoir les comparer\n",
        "# Enfin on peut également indiquer l'id de l'image que l'on souhaite visualiser.\n",
        "def print_data_localisation(x, y, y_pred=[], id=None, image_size=64):\n",
        "  if id==None:\n",
        "    # Tirage aléatoire d'une image dans la base\n",
        "    num_img = np.random.randint(x.shape[0]-1)\n",
        "  else:\n",
        "    num_img = id\n",
        "\n",
        "  img = x[num_img]\n",
        "  lab = y[num_img]\n",
        "\n",
        "  colors = [\"blue\", \"yellow\", \"red\", \"orange\", \"coral\", \"gold\", \"ivory\", \"fuchsia\", \"purple\", \"cyan\", \"navy\"] # Différentes couleurs pour les différentes classes\n",
        "  classes = ['MESCHA', 'VEREUR', 'ECUROU', 'PIEBAV', 'SITTOR', 'PINARB', 'MESNOI', 'MESNON', 'MESBLE', 'ROUGOR', 'ACCMOU']\n",
        "\n",
        "  if np.any(y_pred):\n",
        "    plt.subplot(1, 2, 1)\n",
        "\n",
        "  # Affichage de l'image\n",
        "  plt.imshow(img)\n",
        "  # Détermination de la classe\n",
        "  class_id = np.argmax(lab[5:])\n",
        "\n",
        "  # Détermination des coordonnées de la boîte englobante dans le repère image\n",
        "  ax = (lab[1]*y_std[1] + y_mean[1]) * image_size\n",
        "  ay = (lab[2]*y_std[2] + y_mean[2]) * image_size\n",
        "  width = (lab[3]*y_std[3] + y_mean[3]) * image_size\n",
        "  height = (lab[4]*y_std[4] + y_mean[4]) * image_size\n",
        "  #print(\"x: {}, y: {}, w: {}, h:{}\".format(ax,ay,width, height))\n",
        "  # Détermination des extrema de la boîte englobante\n",
        "  p_x = [ax-width/2, ax+width/2]\n",
        "  p_y = [ay-height/2, ay+height/2]\n",
        "  # Affichage de la boîte englobante, dans la bonne couleur\n",
        "  plt.plot([p_x[0], p_x[0]],p_y,color=colors[class_id])\n",
        "  plt.plot([p_x[1], p_x[1]],p_y,color=colors[class_id])\n",
        "  plt.plot(p_x,[p_y[0],p_y[0]],color=colors[class_id])\n",
        "  plt.plot(p_x,[p_y[1],p_y[1]],color=colors[class_id])\n",
        "  plt.title(\"Vérité Terrain : Image {} - {}\".format(num_img, classes[class_id]))\n",
        "\n",
        "  if np.any(y_pred):\n",
        "    plt.subplot(1, 2, 2)\n",
        "    # Affichage de l'image\n",
        "    plt.imshow(img)\n",
        "    lab = y_pred[num_img]\n",
        "    # Détermination de la classe\n",
        "    class_id = np.argmax(lab[5:])\n",
        "\n",
        "    # Détermination des coordonnées de la boîte englobante dans le repère image\n",
        "    ax = (lab[1]*y_std[1] + y_mean[1]) * image_size\n",
        "    ay = (lab[2]*y_std[2] + y_mean[2]) * image_size\n",
        "    width = (lab[3]*y_std[3] + y_mean[3]) * image_size\n",
        "    height = (lab[4]*y_std[4] + y_mean[4]) * image_size\n",
        "    #print(\"x: {}, y: {}, w: {}, h:{}\".format(ax,ay,width, height))\n",
        "    # Détermination des extrema de la boîte englobante\n",
        "    p_x = [ax-width/2, ax+width/2]\n",
        "    p_y = [ay-height/2, ay+height/2]\n",
        "    # Affichage de la boîte englobante, dans la bonne couleur\n",
        "    plt.plot([p_x[0], p_x[0]],p_y,color=colors[class_id])\n",
        "    plt.plot([p_x[1], p_x[1]],p_y,color=colors[class_id])\n",
        "    plt.plot(p_x,[p_y[0],p_y[0]],color=colors[class_id])\n",
        "    plt.plot(p_x,[p_y[1],p_y[1]],color=colors[class_id])\n",
        "    plt.title(\"Prédiction : Image {} - {}\".format(num_img, classes[class_id]))\n",
        "\n",
        "  plt.show()\n",
        "\n",
        "for i in range(10):#x.shape[0]):\n",
        "    print_data_localisation(x_train, y_train, image_size=IMAGE_SIZE, id=i)\n"
      ]
    },
    {
      "cell_type": "markdown",
      "metadata": {
        "id": "mE9_B3yuR4OH"
      },
      "source": [
        "Fonction d'affichage des courbes d'apprentissage et de validation"
      ]
    },
    {
      "cell_type": "code",
      "execution_count": null,
      "metadata": {
        "id": "-6O7R3qnCtlN"
      },
      "outputs": [],
      "source": [
        "def plot_training_analysis(history, metric='loss'):\n",
        "\n",
        "  loss = history.history[metric]\n",
        "  val_loss = history.history['val_' + metric]\n",
        "\n",
        "  epochs = range(len(loss))\n",
        "\n",
        "  plt.plot(epochs, loss, 'b', linestyle=\"--\",label='Training ' + metric)\n",
        "  plt.plot(epochs, val_loss, 'g', label='Validation ' + metric)\n",
        "  plt.title('Training and validation ' + metric)\n",
        "  plt.legend()\n",
        "\n",
        "  plt.show()"
      ]
    },
    {
      "cell_type": "markdown",
      "metadata": {
        "id": "8F_l_yNlDapa"
      },
      "source": [
        "## Travail à faire\n",
        "\n"
      ]
    },
    {
      "cell_type": "markdown",
      "metadata": {
        "id": "E6D31NGPNyJp"
      },
      "source": [
        "<center> <img src=\"https://drive.google.com/uc?id=1YzCZe4pgnjJDVGklAaCHZ7HhlPJsadg9\" width=500></center>\n",
        "<caption><center> Figure 3: Illustration de l'architecture du réseau à construire.  </center></caption>\n",
        "\n",
        "Complétez les codes qui vous sont fournis pour obtenir un algorithme de localisation.\n",
        "Vous pouvez utiliser n'importe quelle base convolutive de votre choix (vous pouvez vous inspirer du TP sur les CNN que nous avons fait l'an passé), en revanche vous devrez porter une attention particulière à la couche de sortie.\n",
        "\n",
        "Vous allez en fait produire 3 sorties différentes : une caractérisant la présence d'un objet, une autre fournissant les coordonnées de la boîte englobante, et enfin une dernière effectuant la classification."
      ]
    },
    {
      "cell_type": "code",
      "execution_count": null,
      "metadata": {
        "id": "vPOXiJ7hDcbr"
      },
      "outputs": [],
      "source": [
        "def create_model_localisation(input_shape=(64, 64, 3)):\n",
        "\n",
        "  input_layer = Input(shape=input_shape)\n",
        "\n",
        "  conv1 = Conv2D(32, 3, activation = 'relu', padding = 'same', kernel_initializer = 'he_normal')(input_layer)\n",
        "  pool1 = MaxPooling2D(pool_size=(2, 2))(conv1)\n",
        "  ### A COMPLETER\n",
        "  ...\n",
        "  ...\n",
        "  # Cette couche vectorise le tenseur de sortie de votre base convolutive, et\n",
        "  # constituera l'entrée des 3 couches de sortie ci-dessous\n",
        "  prev_layer = Flatten()(..)\n",
        "\n",
        "  #### Couches de sortie A COMPLETER\n",
        "  output_p = Dense(..., activation=..., name='p')(prev_layer)   # Sortie caractérisant la présence d'un objet\n",
        "  output_coord = Dense(..., activation=..., name='coord')(prev_layer) # Sortie caractérisant les coordonnées de boîte englobante\n",
        "  output_class = Dense(..., activation=..., name='classes')(prev_layer) # Sortie caractérisant les probabilités de classe\n",
        "\n",
        "  output= [output_p, output_coord, output_class]\n",
        "  model = Model(input_layer, output)\n",
        "\n",
        "  return model"
      ]
    },
    {
      "cell_type": "markdown",
      "metadata": {
        "id": "MYoVYfQpotjy"
      },
      "source": [
        "<center> <img src=\"https://drive.google.com/uc?id=1bnh8zU7Os-w-5TT8hV4xDoThKQc-Ywc2\" width=500></center>\n",
        "<caption><center> Figure 4: Illustration des fonctions de coût à utiliser pour l'entraînement. </center></caption>\n",
        "\n",
        "Pour entraîner votre réseau, vous allez donc devoir associer une fonction de coût à chacune des sorties du réseau. La fonction de coût totale sera la somme des trois fonctions de coût précédemment définies, pondérées par des poids définis dans la variable *loss_weights*.\n",
        "\n",
        "**Prenez le temps de tester différentes valeurs de *loss_weights* en fonction de l'évolution des métriques que vous observerez pendant l'entraînement.**\n",
        "\n",
        "Vous évaluerez vos résultats de manière qualitative (en affichant les boîtes englobantes prédites et réelles) mais aussi quantitatives grâce aux fonctions définies dans la section précédente. **N'hésitez pas à modifier un peu le paramètre iou_threshold positionné par défaut à 0.5** (une valeur de 0.4 vous permettra d'obtenir de meilleurs résultats !)"
      ]
    },
    {
      "cell_type": "code",
      "execution_count": null,
      "metadata": {
        "id": "s_ewlCn5Rovm"
      },
      "outputs": [],
      "source": [
        "batch_size=16\n",
        "model = create_model_localisation()\n",
        "opt = Adam(learning_rate=3e-4)\n",
        "\n",
        "# Ici mettre, dans l'ordre, les fonctions de coût associées à chacune des sorties\n",
        "loss=[..., ..., ...]\n",
        "# On va associer une métrique à chaque sortie : l'accuracy pour les deux classifications,\n",
        "# et l'IoU définie plus tôt pour la qualité des boîtes englobantes.\n",
        "metrics=[ ['accuracy'], [iou()], ['accuracy']]\n",
        "loss_weights = [1, 1, 1]\n",
        "\n",
        "model.compile(loss=loss,\n",
        "              optimizer=opt,\n",
        "              metrics=metrics,\n",
        "              loss_weights=loss_weights\n",
        "              )\n",
        "history = model.fit(x_train, [y_train[:,0], y_train[:,1:5], y_train[:,5:]],\n",
        "              epochs=50,\n",
        "              batch_size=batch_size,\n",
        "              validation_data=(x_val, [y_val[:,0], y_val[:,1:5], y_val[:,5:]]))\n"
      ]
    },
    {
      "cell_type": "code",
      "execution_count": null,
      "metadata": {
        "id": "Jc-sGe8LNzA-"
      },
      "outputs": [],
      "source": [
        "# Analyse des résultats : courbes d'évolution de la fonction de perte, et de l'IoU des boîtes englobantes ainsi que de la précision des classes prédites\n",
        "plot_training_analysis(history, metric='loss')\n",
        "plot_training_analysis(history, metric='coord_iou')\n",
        "plot_training_analysis(history, metric='classes_accuracy')\n",
        "\n",
        "# Prédiction des données de test\n",
        "y_pred_presence, y_pred_coords, y_pred_classes = model.predict(x_test)\n",
        "y_pred = np.zeros(y_test.shape)\n",
        "for i in range(y_pred.shape[0]):\n",
        "  y_pred[i, 0] = y_pred_presence[i]\n",
        "  y_pred[i, 1:5] = y_pred_coords[i]\n",
        "  y_pred[i, 5:] = y_pred_classes[i]\n",
        "\n",
        "# Affichage des résultats sur plusieurs images\n",
        "print_data_localisation(x_test, y_test, y_pred = y_pred, id=1, image_size=IMAGE_SIZE)\n",
        "print_data_localisation(x_test, y_test, y_pred = y_pred, id=2, image_size=IMAGE_SIZE)\n",
        "print_data_localisation(x_test, y_test, y_pred = y_pred, id=3, image_size=IMAGE_SIZE)\n",
        "print_data_localisation(x_test, y_test, y_pred = y_pred, id=4, image_size=IMAGE_SIZE)\n",
        "print_data_localisation(x_test, y_test, y_pred = y_pred, id=5, image_size=IMAGE_SIZE)\n",
        "print_data_localisation(x_test, y_test, y_pred = y_pred, id=6, image_size=IMAGE_SIZE)\n",
        "print_data_localisation(x_test, y_test, y_pred = y_pred, id=7, image_size=IMAGE_SIZE)\n",
        "print_data_localisation(x_test, y_test, y_pred = y_pred, id=8, image_size=IMAGE_SIZE)"
      ]
    },
    {
      "cell_type": "code",
      "execution_count": null,
      "metadata": {
        "id": "UVU1bR_YEIMs"
      },
      "outputs": [],
      "source": [
        "class_res, accuracy = global_accuracy(y_test, y_pred)\n",
        "\n",
        "print(f\"La précision globale est de {accuracy:.1f}%\")\n",
        "\n",
        "print()\n",
        "print(\"------------------------------------------\")\n",
        "print(\"| Classe | Précision | Rappel | F1-score |\")\n",
        "print(\"------------------------------------------\")\n",
        "for i in range(num_classes):\n",
        "  print(f\"| {class_labels[i]:7s}|   {class_res[i]['Precision']:.2f}    |  {class_res[i]['Rappel']:.2f}  |   {class_res[i]['F-score']:.2f}   |\")\n",
        "  print(\"------------------------------------------\")\n"
      ]
    },
    {
      "cell_type": "markdown",
      "metadata": {
        "id": "eiFO6fBns-OI"
      },
      "source": [
        "En pratique, il est délicat de trouver une bonne combinaison des fonctions de perte tel que vous l'avez fait sur les cellules précédentes. L'entropie croisée et l'erreur quadratique moyenne donnent des valeurs trop différentes pour être combinables efficacement.\n",
        "\n",
        "Une variante, peut-être plus simple à faire fonctionner, est d'utiliser uniquement l'erreur quadratique moyenne comme perte pour toutes les sorties. C'est cette variante qui est implémentée dans l'algorithme YOLO, dont nous implémenterons une version simplifiée dans la suite du TP.\n",
        "Testez cette solution ci-dessous. Comme sur l'exercice précédent, n'hésitez pas à faire varier le poids des différents éléments de la fonction de coût."
      ]
    },
    {
      "cell_type": "code",
      "execution_count": null,
      "metadata": {
        "id": "ttGCeqz0Dc3y"
      },
      "outputs": [],
      "source": [
        "batch_size=16\n",
        "model = create_model_localisation()\n",
        "opt = Adam(learning_rate=3e-4)\n",
        "\n",
        "loss = [..., ..., ...]\n",
        "metrics =[ ['accuracy'], [iou()], ['accuracy']]\n",
        "loss_weights = [...]\n",
        "\n",
        "model.compile(loss=loss,\n",
        "              optimizer=opt,\n",
        "              metrics=metrics,\n",
        "              loss_weights=loss_weights\n",
        "              )\n",
        "history = model.fit(x_train, [y_train[:,0], y_train[:,1:5], y_train[:,5:]],\n",
        "              epochs=50,\n",
        "              batch_size=batch_size,\n",
        "              validation_data=(x_val, [y_val[:,0], y_val[:,1:5], y_val[:,5:]]))\n"
      ]
    },
    {
      "cell_type": "code",
      "execution_count": null,
      "metadata": {
        "id": "gKlN9-clJMrI"
      },
      "outputs": [],
      "source": [
        "# Analyse des résultats : courbes d'évolution de la fonction de perte, et de l'IoU des boîtes englobantes ainsi que de la précision des classes prédites\n",
        "plot_training_analysis(history, metric='loss')\n",
        "plot_training_analysis(history, metric='coord_iou')\n",
        "plot_training_analysis(history, metric='classes_accuracy')\n",
        "\n",
        "# Prédiction des données de test\n",
        "y_pred_presence, y_pred_coords, y_pred_classes = model.predict(x_test)\n",
        "y_pred = np.zeros(y_test.shape)\n",
        "for i in range(y_pred.shape[0]):\n",
        "  y_pred[i, 0] = y_pred_presence[i]\n",
        "  y_pred[i, 1:5] = y_pred_coords[i]\n",
        "  y_pred[i, 5:] = y_pred_classes[i]\n",
        "\n",
        "# Affichage des résultats sur plusieurs images\n",
        "print_data_localisation(x_test, y_test, y_pred = y_pred, id=1, image_size=IMAGE_SIZE)\n",
        "print_data_localisation(x_test, y_test, y_pred = y_pred, id=2, image_size=IMAGE_SIZE)\n",
        "print_data_localisation(x_test, y_test, y_pred = y_pred, id=3, image_size=IMAGE_SIZE)\n",
        "print_data_localisation(x_test, y_test, y_pred = y_pred, id=4, image_size=IMAGE_SIZE)\n",
        "print_data_localisation(x_test, y_test, y_pred = y_pred, id=5, image_size=IMAGE_SIZE)\n",
        "print_data_localisation(x_test, y_test, y_pred = y_pred, id=6, image_size=IMAGE_SIZE)\n",
        "print_data_localisation(x_test, y_test, y_pred = y_pred, id=7, image_size=IMAGE_SIZE)\n",
        "print_data_localisation(x_test, y_test, y_pred = y_pred, id=8, image_size=IMAGE_SIZE)\n",
        "\n",
        "\n",
        "class_res, accuracy = global_accuracy(y_test, y_pred, iou_thres=0.4)\n",
        "\n",
        "print(f\"La précision globale est de {accuracy:.1f}%\")\n",
        "\n",
        "print()\n",
        "print(\"------------------------------------------\")\n",
        "print(\"| Classe | Précision | Rappel | F1-score |\")\n",
        "print(\"------------------------------------------\")\n",
        "for i in range(num_classes):\n",
        "  print(f\"| {class_labels[i]:7s}|   {class_res[i]['Precision']:.2f}    |  {class_res[i]['Rappel']:.2f}  |   {class_res[i]['F-score']:.2f}   |\")\n",
        "  print(\"------------------------------------------\")\n"
      ]
    },
    {
      "cell_type": "markdown",
      "metadata": {
        "id": "vRnqbdrzJx6Q"
      },
      "source": [
        "Compte-tenu de la taille réduite de la base de données, les résultats ne sont pas mal du tout ! On observe quelques confusions entre certaines classes mais les prédictions sont souvent intéressantes.\n",
        "\n",
        "**Fin de la séance 1**\n",
        "\n",
        "---\n",
        "\n"
      ]
    },
    {
      "cell_type": "markdown",
      "metadata": {
        "id": "stQpmnmAt_bf"
      },
      "source": [
        "\n",
        "**Pour aller plus loin :**\n",
        "\n",
        "Il devrait cependant subsister un fort surapprentissage à ce stade. Comme nous l'avons vu en première année, vous avez plusieurs possibilités qui s'offrent à vous pour le corriger :\n",
        "\n",
        "*   Augmentation de la base de données. Vous pouvez pour cela vous appuyer sur le code fourni cu-dessous, avec une classe *Sequence* et l'utilisation de la librairie *Albumentation*.\n",
        "*   Utilisation de *transfer learning* : partant d'un réseau entraîné sur ImageNet (qui contient de nombreuses classes d'animaux), vous bénéficieriez de filtres très généraux qui aiderait à limiter le surapprentissage.\n",
        "\n"
      ]
    },
    {
      "cell_type": "markdown",
      "metadata": {
        "id": "0dp1-obrdJgx"
      },
      "source": [
        "## Quelques bouts de code pour vous aider à aller un peu plus loin\n",
        "\n",
        "L'augmentation seule aide déjà un peu, mais le transfer learning accompagné d'augmentation de données donne les meilleurs résultats, avec presque 80% de bonnes détections !"
      ]
    },
    {
      "cell_type": "markdown",
      "metadata": {
        "id": "3Jp6jwZidJgx"
      },
      "source": [
        "### Augmentation de données"
      ]
    },
    {
      "cell_type": "markdown",
      "metadata": {
        "id": "B5WuA43ZULxP"
      },
      "source": [
        "Le bloc de code suivant permet de définir des transformations colorimétriques à appliquer à notre base de données, de manière à augmenter artificiellement le nombre d'images de celles-ci :"
      ]
    },
    {
      "cell_type": "code",
      "execution_count": null,
      "metadata": {
        "id": "WS5wxAXvdJgx"
      },
      "outputs": [],
      "source": [
        "from albumentations import (Compose, RandomBrightnessContrast, RandomGamma, ShiftScaleRotate, RandomSizedBBoxSafeCrop)\n",
        "import albumentations as A\n",
        "\n",
        "AUGMENTATIONS_TRAIN = Compose([\n",
        "    RandomGamma(gamma_limit=(80, 120), p=0.5),\n",
        "    RandomBrightnessContrast(brightness_limit=(-0.2, 0.2), contrast_limit=(-0.2, 0.2), p=0.5)\n",
        "], bbox_params=A.BboxParams(format='yolo', label_fields=['class_labels']))"
      ]
    },
    {
      "cell_type": "markdown",
      "metadata": {
        "id": "sND_uaWPURfE"
      },
      "source": [
        "En première année, nous avons implémenté l'augmentation de données à l'aide d'un objet ImageDataGenerator. La limite de cette méthode est qu'elle ne peut s'appliquer que dans des cas où l'augmentation de données ne modifie pas le label associé à l'image. C'était le cas dans le TP de l'an passé sur les chiens et les chats : appliquer une rotation ou une translation à une image de chien (ou de chat) ne changeait rien au fait que l'image montrait un chien (ou un chat).\n",
        "\n",
        "Ici, il peut arriver que certaines transformations altèrent le label : une rotation appliquée à un objet en changera nécessairement les coordonnées de boîte englobante.\n",
        "Pour gérer cette difficulté, on va implémenter nous même le chargement des données, à l'aide d'un objet ```Sequence``` (défini ci-dessous).\n",
        "\n",
        "La méthode ```__get_item()__``` récupère les données et labels du prochain batch à fournir au modèle pour la descente de gradient. On peut ainsi, à la volée, appliquer l'augmentation de données sur les images et impacter la modification sur les labels associés (fonction ```apply_augmentation```)."
      ]
    },
    {
      "cell_type": "code",
      "execution_count": null,
      "metadata": {
        "id": "x9GXnEyYdJgy"
      },
      "outputs": [],
      "source": [
        "from tensorflow.keras.utils import Sequence\n",
        "\n",
        "class MangeoireSequence(Sequence):\n",
        "    # Initialisation de la séquence avec différents paramètres\n",
        "    def __init__(self, x_set, y_set, batch_size,augmentations):\n",
        "        self.x, self.y = x_set, y_set\n",
        "        self.classes = ['MESCHA', 'VEREUR', 'ECUROU', 'PIEBAV', 'SITTOR', 'PINARB', 'MESNOI', 'MESNON', 'MESBLE', 'ROUGOR', 'ACCMOU']\n",
        "        self.batch_size = batch_size\n",
        "        self.augment = augmentations\n",
        "        self.indices1 = np.arange(x_set.shape[0])\n",
        "        np.random.shuffle(self.indices1) # Les indices permettent d'accéder\n",
        "        # aux données et sont randomisés à chaque epoch pour varier la composition\n",
        "        # des batches au cours de l'entraînement\n",
        "\n",
        "    # Fonction calculant le nombre de pas de descente du gradient par epoch\n",
        "    def __len__(self):\n",
        "        return int(np.ceil(len(self.x) / float(self.batch_size)))\n",
        "\n",
        "    # Il y a des problèmes d'arrondi dans les conversions de boîtes englobantes\n",
        "    # internes à la librairie Albumentations\n",
        "    # Pour les contourner, si les boîtes sont trop proches des bords, on les érode un peu\n",
        "    def erode_bounding_box(self, box):\n",
        "        epsilon = 0.01\n",
        "\n",
        "        xmin = max(box[0] - box[2]/2, epsilon)\n",
        "        ymin = max(box[1] - box[3]/2, epsilon)\n",
        "        xmax = min(box[0] + box[2]/2, 1-epsilon)\n",
        "        ymax = min(box[1] + box[3]/2, 1-epsilon)\n",
        "\n",
        "        cx = xmin + (xmax - xmin)/2\n",
        "        cy = ymin + (ymax - ymin)/2\n",
        "        width = xmax - xmin\n",
        "        height = ymax - ymin\n",
        "\n",
        "        return np.array([cx, cy, width, height])\n",
        "\n",
        "    # Application de l'augmentation de données à chaque image du batch et aux\n",
        "    # boîtes englobantes associées\n",
        "    def apply_augmentation(self, bx, by):\n",
        "\n",
        "        batch_x = np.zeros((bx.shape[0], IMAGE_SIZE, IMAGE_SIZE, 3))\n",
        "        batch_y = by\n",
        "\n",
        "        # Pour chaque image du batch\n",
        "        for i in range(len(bx)):\n",
        "            bboxes = []\n",
        "            box = by[i,1:5]\n",
        "            # Dénormalisation des coordonnées de boites englobantes\n",
        "            box[0] = (box[0]*y_std[1] + y_mean[1])\n",
        "            box[1] = (box[1]*y_std[2] + y_mean[2])\n",
        "            box[2] = (box[2]*y_std[3] + y_mean[3])\n",
        "            box[3] = (box[3]*y_std[4] + y_mean[4])\n",
        "            box = self.erode_bounding_box(box)\n",
        "            bboxes.append(box)\n",
        "\n",
        "            class_labels = []\n",
        "            class_id = np.argmax(by[i, 5:])\n",
        "            class_labels.append(self.classes[class_id])\n",
        "\n",
        "            img = bx[i]\n",
        "\n",
        "            # Application de l'augmentation à l'image et aux masques\n",
        "            transformed = self.augment(image=img.astype('float32'), bboxes=bboxes, class_labels=class_labels)\n",
        "            batch_x[i] = transformed['image']\n",
        "            batch_y_transformed = transformed['bboxes']\n",
        "\n",
        "            # Renormalisation des coordonnées de boîte englobante transformée\n",
        "            batch_y[i, 1] = (batch_y_transformed[0][0] - y_mean[1])/y_std[1]\n",
        "            batch_y[i, 2] = (batch_y_transformed[0][1] - y_mean[2])/y_std[2]\n",
        "            batch_y[i, 3] = (batch_y_transformed[0][2] - y_mean[3])/y_std[3]\n",
        "            batch_y[i, 4] = (batch_y_transformed[0][3] - y_mean[4])/y_std[4]\n",
        "\n",
        "        return batch_x, batch_y\n",
        "\n",
        "    # Fonction appelée à chaque nouveau batch : sélection et augmentation des données\n",
        "    def __getitem__(self, idx):\n",
        "        batch_x = self.x[self.indices1[idx * self.batch_size:(idx + 1) * self.batch_size]]\n",
        "        batch_y = self.y[self.indices1[idx * self.batch_size:(idx + 1) * self.batch_size]]\n",
        "        batch_x, batch_y = self.apply_augmentation(batch_x, batch_y)\n",
        "\n",
        "        batch_y = np.array(batch_y)\n",
        "        return np.array(batch_x), (batch_y[:,0], batch_y[:,1:5].astype('float32'), batch_y[:,5:])\n",
        "\n",
        "    # Fonction appelée à la fin d'un epoch ; on randomise les indices d'accès aux données\n",
        "    def on_epoch_end(self):\n",
        "        np.random.shuffle(self.indices1)\n",
        "\n"
      ]
    },
    {
      "cell_type": "markdown",
      "metadata": {
        "id": "rzUmu4j1MGHv"
      },
      "source": [
        "On peut ensuite instancier notre objet ```Sequence``` et afficher un exemple d'image augmentée avec le label associé."
      ]
    },
    {
      "cell_type": "code",
      "execution_count": null,
      "metadata": {
        "id": "BUbm6gTMdJgy"
      },
      "outputs": [],
      "source": [
        "# Instanciation d'une Sequence\n",
        "train_gen = MangeoireSequence(x_train, y_train, 16, augmentations=AUGMENTATIONS_TRAIN)\n",
        "\n",
        "# Pour tester la séquence, nous sélectionnons les éléments du premier batch et les affichons\n",
        "batch_x, batch_y = train_gen.__getitem__(0)\n",
        "\n",
        "y_batch = np.zeros((batch_y[0].shape[0],1+4+num_classes))\n",
        "\n",
        "for i in range(batch_y[0].shape[0]):\n",
        "  y_batch[i, 0] = batch_y[0][i]\n",
        "  y_batch[i, 1:5] = batch_y[1][i]\n",
        "  y_batch[i, 5:] = batch_y[2][i]\n",
        "\n",
        "print_data_localisation(batch_x, y_batch, image_size=IMAGE_SIZE)"
      ]
    },
    {
      "cell_type": "markdown",
      "metadata": {
        "id": "kzTd5gw8MbYV"
      },
      "source": [
        "**Travail à faire** : lancez un nouvel apprentissage avec l'augmentation de données. Vous remplacerez, dans l'appel à la fonction ```fit```, les variables ```x_train``` et ```y_train``` par l'unique variable ```train_gen```.\n",
        "\n",
        "\n",
        "Vous devriez observer une nouvelle amélioration des résultats."
      ]
    },
    {
      "cell_type": "markdown",
      "metadata": {
        "id": "dFsr4WOPOMyy"
      },
      "source": [
        "### Transfert d'apprentissage"
      ]
    },
    {
      "cell_type": "markdown",
      "metadata": {
        "id": "xT8hGj-vOQ2i"
      },
      "source": [
        "Nous avons vu en première année comment le transfert d'apprentissage pouvait également améliorer les résultats et limiter le sur-apprentissage. L'utilisation d'un réseau pré-entraîné permet souvent de mieux généraliser.\n",
        "\n",
        "Le bloc suivant permet de charger l'architecture du réseau VGG-16 :"
      ]
    },
    {
      "cell_type": "code",
      "execution_count": null,
      "metadata": {
        "id": "LytjHH3lOyMh"
      },
      "outputs": [],
      "source": [
        "from tensorflow.keras.applications import VGG16\n",
        "\n",
        "conv_base = VGG16(weights='imagenet',\n",
        "                  include_top=False, # On ne conserve pas la partie Dense du réseau originel\n",
        "                  input_shape=(64, 64, 3))"
      ]
    },
    {
      "cell_type": "markdown",
      "metadata": {
        "id": "PcMNz_yFOzP_"
      },
      "source": [
        "Une fois cette base convolutive chargée, vous pouvez créer un nouveau modèle en y adjoignant les couches de sortie que vous avez déjà créées lors de la séance précédente\n",
        "\n",
        "```\n",
        "input_layer = Input(shape=input_shape)\n",
        "vgg = conv_base(input_layer)\n",
        "...\n",
        "```"
      ]
    },
    {
      "cell_type": "markdown",
      "metadata": {
        "id": "W9nQJfZIPdhT"
      },
      "source": [
        "**Travail à faire**\n",
        "\n",
        "Testez maintenant l'entraînement de ce réseau, en utilisant également l'augmentation de données. A vous de voir en fonction de vos premiers résultats quelle est la meilleure fonction de coût à utiliser.\n",
        "\n",
        "Vous devriez obtenir un résultats avoisinant les 80% de bonnes détections."
      ]
    },
    {
      "cell_type": "markdown",
      "metadata": {
        "id": "OZKjt5haqbGi"
      },
      "source": [
        "# Détection d'objet : version simplifiée de YOLO\n",
        "\n",
        "<center> <img src=\"https://drive.google.com/uc?id=1V4aAS7K_Akj83apuMZ2vRjNvjgdgoOCh\" width=500></center>\n",
        "<caption><center> Pipeline de l'algorithme YOLO ([Redmon 2016]) </center></caption>\n",
        "\n",
        "Dans cette partie, nous allons tenter d'aller un peu plus loin en considérant le problème plus complexe de la détection d'objet, c'est-à-dire de la localisation et la classification conjointe de tous les objets dans l'image ; pour cela nous allons implémenter une version simplifiée de YOLO. Cette version est considérée simplifiée car ne reprenant pas l'intégralité des éléments décrite dans l'article de Redmon (par exemple, sur le choix de l'optimiseur). Une des simplifications principales est également que nous ne considérerons **qu'un objet par cellule**.\n",
        "\n",
        "Pour rappel, l'idée de YOLO est de découper l'image en une grille de cellules et de réaliser une prédiction de plusieurs boîtes englobantes ainsi qu'une classification par cellule. La vidéo de la cellule suivante rappelle les concepts vus en cours sur YOLO et la détection d'objet en général.\n",
        "\n"
      ]
    },
    {
      "cell_type": "markdown",
      "metadata": {
        "id": "2Df-gdKaqlNb"
      },
      "source": [
        "Récupération des données"
      ]
    },
    {
      "cell_type": "code",
      "execution_count": null,
      "metadata": {
        "id": "oP3pNNuKqdPD",
        "vscode": {
          "languageId": "shellscript"
        }
      },
      "outputs": [],
      "source": [
        "git clone https://github.com/axelcarlier/wildlife.git"
      ]
    },
    {
      "cell_type": "markdown",
      "metadata": {
        "id": "laf92f_irz5S"
      },
      "source": [
        "## Fonctions utiles"
      ]
    },
    {
      "cell_type": "markdown",
      "metadata": {
        "id": "WSZhLz_Pr26I"
      },
      "source": [
        "Définition des différentes variables utiles pour la suite"
      ]
    },
    {
      "cell_type": "code",
      "execution_count": 7,
      "metadata": {
        "id": "k3jBt13jqnF_"
      },
      "outputs": [],
      "source": [
        "IMAGE_SIZE = 64 # Dimension des images en entrée du réseau\n",
        "CELL_PER_DIM = 8 # Nombre de cellules en largeur et en hauteur\n",
        "BOX_PER_CELL = 1 # Nombre d'objets par cellule\n",
        "NB_CLASSES = 4 # Nombre de classes du problème\n",
        "PIX_PER_CELL = round(IMAGE_SIZE/CELL_PER_DIM)\n",
        "\n",
        "CLASS_LABELS = ['buffalo', 'elephant', 'rhino', 'zebra']"
      ]
    },
    {
      "cell_type": "markdown",
      "metadata": {
        "id": "dnra6vWZr-6Y"
      },
      "source": [
        "### Chargement des données\n",
        "\n",
        "On charge les images dans la dimension demandée, dans un tenseur $x$. Pour les labels, on ne les structure pas directement dans le format YOLO, mais on les place dans une liste de liste de listes : la longueur de la liste parente est celle du nombre d'images de la base, celle de la liste intermédiaire est celle du nombre d'objets d'une image donnée, et enfin la liste de plus bas niveau a une longueur 5 et contiendra les coordonnées de boîte englobante et les labels de classe associés."
      ]
    },
    {
      "cell_type": "code",
      "execution_count": 8,
      "metadata": {
        "id": "QMPqeqsrr7Sw"
      },
      "outputs": [],
      "source": [
        "import numpy as np\n",
        "\n",
        "import math\n",
        "\n",
        "\n",
        "import PIL\n",
        "from PIL import Image\n",
        "import glob, os, sys\n",
        "\n",
        "for file in glob.glob(\"*.txt\"):\n",
        "    print(file)\n",
        "\n",
        "def load_data_detection(ds_path):\n",
        "\n",
        "  y_paths = []\n",
        "  # Détermination du nombre d'images total\n",
        "  for c in CLASS_LABELS:\n",
        "    path = ds_path + c + '/'\n",
        "    for file in os.listdir(path):\n",
        "      if file.endswith('.txt'):\n",
        "          y_paths.append(os.path.join(path, file))\n",
        "\n",
        "  dataset_size = len(y_paths)\n",
        "\n",
        "  # Préparation des structures de données pour x et y\n",
        "  x = np.zeros((dataset_size, IMAGE_SIZE, IMAGE_SIZE, 3))\n",
        "  y = []\n",
        "\n",
        "  for i in range(len(y_paths)):\n",
        "    text_path = y_paths[i]\n",
        "    img_path = text_path[:-3] + 'jpg'\n",
        "\n",
        "    if not os.path.exists(img_path):\n",
        "      img_path = text_path[:-3] + 'JPG'\n",
        "\n",
        "    # Lecture de l'image : on va remplir la variable x\n",
        "    # Lecture de l'image\n",
        "    img = Image.open(img_path)\n",
        "    # Mise à l'échelle de l'image\n",
        "    img = img.resize((IMAGE_SIZE, IMAGE_SIZE), Image.Resampling.LANCZOS)\n",
        "    # Remplissage de la variable x\n",
        "    x[i] = np.asarray(img, dtype=np.int32)\n",
        "\n",
        "    # Texte : coordonnées de boîtes englobantes pour remplir y\n",
        "    boxes = []\n",
        "    # Texte : coordonnées de boîtes englobantes pour remplir y\n",
        "    text_file = open(text_path, \"r\")\n",
        "    # Récupération des lignes du fichier texte\n",
        "    rows = text_file.read().split('\\n')\n",
        "    # Parcours de chaque ligne\n",
        "    for row in rows:\n",
        "      if row != '':\n",
        "        # Séparation des différentes informations\n",
        "        row = list(row.split(' '))\n",
        "        box = []\n",
        "        # réorganisation : les 4 coordonnées de boîte englobantes (castées en flottants) d'abord\n",
        "        for r in row[1:]:\n",
        "          box.append(float(r))\n",
        "\n",
        "        box_normal = [box[0]-box[2]/2, box[1]-box[3]/2, box[0]+box[2]/2, box[1]+box[3]/2]\n",
        "\n",
        "        # Puis le label de classe (casté en entier) à la suite\n",
        "        box.append(int(row[0]))\n",
        "        boxes.append(box)\n",
        "\n",
        "    y.append(boxes)\n",
        "  return x, y\n",
        "\n",
        "# Chemin vers la base de données\n",
        "ds_path = \"./wildlife/\"\n",
        "x ,y = load_data_detection(ds_path)\n"
      ]
    },
    {
      "cell_type": "markdown",
      "metadata": {
        "id": "u-AM0YYZsJ4P"
      },
      "source": [
        "### Affichage des données\n",
        "\n",
        "Le code ci-dessous vous permettra d'afficher les images ainsi que leurs boîtes englobantes associées. On peut spécifier l'id d'une image en particulier ou, si l'on en spécifie pas, visualiser une image aléatoire."
      ]
    },
    {
      "cell_type": "code",
      "execution_count": 31,
      "metadata": {
        "id": "h0J4gjOesMBM"
      },
      "outputs": [
        {
          "data": {
            "image/png": "[encoded data removed]",
            "text/plain": [
              "<Figure size 640x480 with 1 Axes>"
            ]
          },
          "metadata": {},
          "output_type": "display_data"
        }
      ],
      "source": [
        "from scipy.special import softmax\n",
        "import matplotlib.pyplot as plt\n",
        "\n",
        "def print_data_detection(x, y, id=None, classes=CLASS_LABELS, image_size=IMAGE_SIZE):\n",
        "  if id==None:\n",
        "    # Tirage aléatoire d'une image dans la base\n",
        "    num_img = np.random.randint(x.shape[0])\n",
        "  else:\n",
        "    num_img = id\n",
        "\n",
        "  img = x[num_img]\n",
        "  if np.max(img) > 1:\n",
        "    img = img/255\n",
        "  boxes = y[num_img]\n",
        "\n",
        "  colors = [\"blue\", \"yellow\", \"red\", \"orange\"] # Différentes couleurs pour les différentes classes\n",
        "\n",
        "  # Affichage de l'image\n",
        "  plt.imshow(img)\n",
        "  for box in boxes:\n",
        "\n",
        "    # Détermination de la classe\n",
        "    class_id = box[4]\n",
        "\n",
        "    # Détermination des extrema de la boîte englobante\n",
        "    p_x = [(box[0]-box[2]/2) * IMAGE_SIZE, (box[0]+box[2]/2) * IMAGE_SIZE]\n",
        "    p_y = [(box[1]-box[3]/2) * IMAGE_SIZE, (box[1]+box[3]/2) * IMAGE_SIZE]\n",
        "\n",
        "    # Affichage de la boîte englobante, dans la bonne couleur\n",
        "    plt.plot([p_x[0], p_x[0]],p_y,color=colors[class_id])\n",
        "    plt.plot([p_x[1], p_x[1]],p_y,color=colors[class_id])\n",
        "    plt.plot(p_x,[p_y[0],p_y[0]],color=colors[class_id])\n",
        "    plt.plot(p_x,[p_y[1],p_y[1]],color=colors[class_id], label=classes[class_id])\n",
        "    #plt.title(\"Vérité Terrain : Image {}\".format(num_img, classes[class_id]))\n",
        "\n",
        "  plt.legend(bbox_to_anchor=(1.04,1), loc=\"upper left\")\n",
        "  plt.axis('off')\n",
        "  plt.show()\n",
        "\n",
        "\n",
        "print_data_detection(x, y)\n"
      ]
    },
    {
      "cell_type": "markdown",
      "metadata": {
        "id": "jirD7DirsRH2"
      },
      "source": [
        "### Écriture des labels au format YOLO\n",
        "\n",
        "Les deux fonctions ci-dessous sont essentielles car elles permettent de convertir les boîtes englobantes dans le format adopté par YOLO (voir la section Modèle un peu plus bas), mais également de faire l'opération inverse afin d'interpréter la sortie du réseau.\n",
        "\n",
        "Notez que la fonction *get_box_from_yolo* intègre dans les boîtes englobantes une information supplémentaire par rapport aux données chargées initialement : la probabilité de présence associée à la boîte englobante.\n",
        "\n",
        "**Travail à faire**\n",
        "-   Lisez attentivement la fonction ```set_box_for_yolo``` afin de bien comprendre comment les boîtes englobantes sont rangées dans le tenseur YOLO\n",
        "-   Écrivez la fonction ```get_box_from_yolo``` pour lire les informations dans le tenseur YOLO et créer la liste boîtes englobantes associées."
      ]
    },
    {
      "cell_type": "code",
      "execution_count": 57,
      "metadata": {
        "id": "aUnk8T3MsWv6"
      },
      "outputs": [
        {
          "name": "stdout",
          "output_type": "stream",
          "text": [
            "[[[0.231132, 0.631387, 0.292453, 0.270073, 0], [0.75, 0.532847, 0.141509, 0.262774, 0], [0.563679, 0.554745, 0.240566, 0.277372, 0], [0.509434, 0.434307, 0.273585, 0.167883, 0]], [[0.646484, 0.656081, 0.697656, 0.666216, 0]]]\n",
            "[[[0.231132, 0.631387, 0.292453, 0.270073, 1.0], [0.509434, 0.434307, 0.273585, 0.167883, 1.0], [0.563679, 0.554745, 0.240566, 0.277372, 1.0], [0.75, 0.532847, 0.141509, 0.262774, 1.0]], [[0.646484, 0.656081, 0.697656, 0.666216, 1.0]]]\n"
          ]
        }
      ],
      "source": [
        "from tensorflow.keras.utils import to_categorical\n",
        "from scipy.special import expit, softmax\n",
        "\n",
        "\n",
        "# Ecrit la liste de boîtes englobantes dans le tenseur YOLO\n",
        "def set_box_for_yolo(y, num_classes=NB_CLASSES, image_size=IMAGE_SIZE, cell_size=PIX_PER_CELL):\n",
        "  nb_cells_per_dim = round(image_size/cell_size)\n",
        "\n",
        "  y_YOLO = np.zeros((len(y), nb_cells_per_dim, nb_cells_per_dim, 1 + 4 + num_classes))\n",
        "\n",
        "  for i in range(len(y)):\n",
        "    for box in y[i]:\n",
        "      # Coordonnées du centre de la boîte englobante dans le repère image\n",
        "      cx, cy = box[0] * image_size, box[1] * image_size\n",
        "      # Détermination des indices de la cellule dans laquelle tombe le centre\n",
        "      ind_x, ind_y = int(cx // cell_size), int(cy // cell_size)\n",
        "      # YOLO : \"The (x, y) coordinates represent the center of the box relative to the bounds of the grid cell.\"\n",
        "      # On va donc calculer les coordonnées du centre relativement à la cellule dans laquelle il se situe\n",
        "      y_YOLO[i, ind_x, ind_y, 1] = (cx - ind_x * cell_size) / cell_size\n",
        "      y_YOLO[i, ind_x, ind_y, 2] = (cy - ind_y * cell_size) / cell_size\n",
        "      # Largeur et hauteur de boîte\n",
        "      y_YOLO[i, ind_x, ind_y, 3] = box[2]\n",
        "      y_YOLO[i, ind_x, ind_y, 4] = box[3]\n",
        "\n",
        "      # Indice de confiance de la boîte englobante pour la cellule correspondante\n",
        "      y_YOLO[i, ind_x, ind_y, 0] = 1\n",
        "      # On range les probabilités de classe à la fin du vecteur ([ Présence ; cx ; cy ; w ; h ; CLASSES])\n",
        "      y_YOLO[i, ind_x, ind_y, 5:] = to_categorical(box[4], num_classes=num_classes)\n",
        "\n",
        "  return y_YOLO\n",
        "\n",
        "# Renvoit une liste de boîtes englobantes à partir d'un tenseur YOLO.\n",
        "# Si mode = 'pred', il s'agit d'une prédiction du réseau, il faut alors utiliser la fonction sigmoide\n",
        "# pour obtenir la présence prédite, et la fonction softmax pour obtenir les probabilités de classe\n",
        "# Dans tous les cas, on renvoit uniquement les boîtes englobantes donc l'indice de confiance excède\n",
        "# le seuil confidence_threshold\n",
        "def get_box_from_yolo(y_YOLO, mode=None, confidence_threshold=0.5, num_classes=NB_CLASSES, image_size=IMAGE_SIZE, cell_size=PIX_PER_CELL):\n",
        "  nb_cells_per_dim = round(image_size/cell_size)\n",
        "  y = np.zeros(len(y_YOLO)).tolist()\n",
        "\n",
        "  for i in range(len(y_YOLO)):\n",
        "    y[i] = []\n",
        "    obj = 0\n",
        "    for i_x in range(nb_cells_per_dim) :\n",
        "      for i_y in range(nb_cells_per_dim) :\n",
        "        \n",
        "        p = (tf.math.sigmoid(y_YOLO[i, i_x, i_y, 0]) if mode == \"pred\" else y_YOLO[i, i_x, i_y, 0])\n",
        "\n",
        "        if p > (confidence_threshold if mode == \"pred\" else 0) :\n",
        "          cxr = y_YOLO[i, i_x, i_y, 1]\n",
        "          cyr = y_YOLO[i, i_x, i_y, 2]\n",
        "\n",
        "          box = [0,0,0,0,0]\n",
        "\n",
        "          box[0] = float(((cxr * cell_size) + (i_x * cell_size)) / image_size)\n",
        "          box[1] = float(((cyr * cell_size) + (i_y * cell_size)) / image_size)\n",
        "          box[2] = float(y_YOLO[i, i_x, i_y, 3])\n",
        "          box[3] = float(y_YOLO[i, i_x, i_y, 4])\n",
        "          box[4] = float(p)\n",
        "          y[i].append(box)\n",
        "        # else :\n",
        "        #   pass\n",
        "        \n",
        "  \n",
        "  return y\n",
        "# On s'assure de pouvoir passer d'une représentation à l'autre sans altérer les données\n",
        "print(y[:2])\n",
        "print(get_box_from_yolo(set_box_for_yolo(y[:2])))"
      ]
    },
    {
      "cell_type": "markdown",
      "metadata": {
        "id": "yoB-v0XgUWae"
      },
      "source": [
        "**Résultat attendu**\n",
        "```\n",
        "[[[0.483984, 0.522973, 0.749219, 0.645946, 0]], [[0.509375, 0.649324, 0.80625, 0.595946, 0]]]\n",
        "[[[0.483984, 0.522973, 0.749219, 0.645946, 0, 1.0]], [[0.509375, 0.649324, 0.80625, 0.595946, 0, 1.0]]]\n",
        "```"
      ]
    },
    {
      "cell_type": "markdown",
      "metadata": {
        "id": "YrtoRD8bVjbU"
      },
      "source": [
        "**Fin de la séance 2**\n",
        "\n",
        "\n",
        "---\n",
        "\n"
      ]
    },
    {
      "cell_type": "markdown",
      "metadata": {
        "id": "5hXjZ_ybshkx"
      },
      "source": [
        "### Augmentation de données\n",
        "\n",
        "Dans la cellule ci-dessous, il vous faudra intégrer les augmentations que vous aurez choisi. **Attention, ne faites cette partie que dans un second temps, lorsque vous aurez une première version du réseau qui fonctionnera !**\n",
        "\n",
        "Aidez-vous de [cette page](https://albumentations.ai/docs/getting_started/transforms_and_targets/) pour déterminer des augmentations qui peuvent fonctionner."
      ]
    },
    {
      "cell_type": "code",
      "execution_count": null,
      "metadata": {
        "id": "83emcM2ysfoN"
      },
      "outputs": [],
      "source": [
        "from albumentations import (Compose, ShiftScaleRotate, HorizontalFlip)\n",
        "import albumentations as A\n",
        "\n",
        "AUGMENTATIONS_TRAIN = Compose([\n",
        "    #### A COMPLETER, MAIS SEULEMENT LORSQUE VOUS AVEZ UN RESEAU QUI (SUR-)APPREND !\n",
        "    # HorizontalFlip(p=0.5),\n",
        "    # ...\n",
        "], bbox_params=A.BboxParams(format='yolo'))"
      ]
    },
    {
      "cell_type": "markdown",
      "metadata": {
        "id": "UOY1ljkJsqPc"
      },
      "source": [
        "L'objet ```Sequence``` défini ci-dessous nous permettra la mise en batch de nos données. Il est très similaire à celui de la localisation d'objet mais il utilise les fonctions ```set_box_for_yolo``` et ```get_box_from_yolo```"
      ]
    },
    {
      "cell_type": "code",
      "execution_count": null,
      "metadata": {
        "id": "88vbS9NzsoJN"
      },
      "outputs": [],
      "source": [
        "from tensorflow.keras.utils import Sequence\n",
        "\n",
        "class YOLOSequence(Sequence):\n",
        "    # Initialisation de la séquence avec différents paramètres\n",
        "    def __init__(self, x_set, y_set, batch_size,augmentations):\n",
        "        self.x, self.y = x_set, y_set\n",
        "        self.batch_size = batch_size\n",
        "        self.augment = augmentations\n",
        "        self.indices1 = np.arange(x_set.shape[0], dtype='int')\n",
        "        np.random.shuffle(self.indices1) # Les indices permettent d'accéder\n",
        "        # aux données et sont randomisés à chaque epoch pour varier la composition\n",
        "        # des batches au cours de l'entraînement\n",
        "\n",
        "    # Fonction calculant le nombre de pas de descente du gradient par epoch\n",
        "    def __len__(self):\n",
        "        return int(np.ceil(len(self.x) / float(self.batch_size)))\n",
        "\n",
        "\n",
        "    # Il y a des problèmes d'arrondi dans les conversions de boîtes englobantes\n",
        "    # internes à la librairie Albumentations\n",
        "    # Pour les contourner, si les boîtes sont trop proches des bords, on les érode un peu\n",
        "    def erode_bounding_box(self, box, epsilon = 0.02):\n",
        "        eroded_box = []\n",
        "\n",
        "        xmin = max(box[0] - box[2]/2, epsilon)\n",
        "        ymin = max(box[1] - box[3]/2, epsilon)\n",
        "        xmax = min(box[0] + box[2]/2, 1-epsilon)\n",
        "        ymax = min(box[1] + box[3]/2, 1-epsilon)\n",
        "\n",
        "        cx = xmin + (xmax - xmin)/2\n",
        "        cy = ymin + (ymax - ymin)/2\n",
        "        width = xmax - xmin\n",
        "        height = ymax - ymin\n",
        "\n",
        "        eroded_box = [cx, cy, width, height, box[4]]\n",
        "        return eroded_box\n",
        "\n",
        "    # Application de l'augmentation de données à chaque image du batch et aux\n",
        "    # boîtes englobantes associées\n",
        "    def apply_augmentation(self, bx, by):\n",
        "\n",
        "        batch_x = np.zeros((bx.shape[0], IMAGE_SIZE, IMAGE_SIZE, 3))\n",
        "        batch_y = []\n",
        "\n",
        "        # Pour chaque image du batch\n",
        "        for i in range(len(bx)):\n",
        "            boxes = []\n",
        "            # Erosion des boîtes englobantes\n",
        "            for box in by[i]:\n",
        "              boxes.append(self.erode_bounding_box(box))\n",
        "\n",
        "            # Application de l'augmentation à l'image et aux boîtes englobantes\n",
        "            transformed = self.augment(image=bx[i].astype('float32'), bboxes=boxes)\n",
        "            batch_x[i] = transformed['image']\n",
        "            batch_y_transformed = transformed['bboxes']\n",
        "            batch_y.append(batch_y_transformed)\n",
        "\n",
        "        return batch_x, batch_y\n",
        "\n",
        "    # Fonction appelée à chaque nouveau batch : sélection et augmentation des données\n",
        "    def __getitem__(self, idx):\n",
        "        # Sélection des indices des données du prochain batch\n",
        "        batch_indices = self.indices1[idx * self.batch_size:(idx + 1) * self.batch_size]\n",
        "        # Récupération des données puis des labels du batch\n",
        "        batch_x = self.x[batch_indices]\n",
        "        batch_boxes = [self.y[item] for item in list(batch_indices)]\n",
        "        # Application de l'augmentation de données\n",
        "        batch_x_aug, batch_boxes_aug = self.apply_augmentation(batch_x, batch_boxes)\n",
        "\n",
        "        # Préparation des données pour le réseau :\n",
        "        # Normalisation des entrées\n",
        "        batch_x_aug = batch_x_aug/255\n",
        "        # Passage des sorties au format YOLO\n",
        "        batch_y_YOLO = set_box_for_yolo(batch_boxes_aug)\n",
        "\n",
        "        return np.array(batch_x_aug), batch_y_YOLO\n",
        "\n",
        "    # Fonction appelée à la fin d'un epoch ; on randomise les indices d'accès aux données\n",
        "    def on_epoch_end(self):\n",
        "        np.random.shuffle(self.indices1)\n",
        "\n"
      ]
    },
    {
      "cell_type": "code",
      "execution_count": null,
      "metadata": {
        "id": "-K3TjW8osu23"
      },
      "outputs": [],
      "source": [
        "# Instanciation d'une Sequence\n",
        "train_gen = YOLOSequence(x[:1], y[:1], 1, augmentations=AUGMENTATIONS_TRAIN)\n",
        "\n",
        "# Pour tester la séquence, nous sélectionnons les éléments du premier batch et les affichons\n",
        "batch_x, batch_y = train_gen.__getitem__(0)\n",
        "\n",
        "print_data_detection(batch_x, get_box_from_yolo(batch_y))"
      ]
    },
    {
      "cell_type": "markdown",
      "metadata": {
        "id": "b8jLZH-ss7Gq"
      },
      "source": [
        "## Implémentation de YOLO\n",
        "\n",
        "### Modèle\n",
        "\n",
        "<center> <img src=\"https://drive.google.com/uc?id=1_wXc_gTIAr37STaxu3chq1EEjVSKv6a5\" width=500></center>\n",
        "<caption><center> Illustration de la couche de sortie de YOLO. </center></caption>\n",
        "\n",
        "Le modèle que je vous propose ci-dessous n'est qu'une possibilité parmi beaucoup d'autres.\n",
        "A vous de compléter la dernière couche pour avoir une sortie de la bonne dimension.\n",
        "\n",
        "**Remarque importante** : comme le tenseur de sortie de YOLO est un peu complexe à manipuler, on choisit ici de regrouper l'ensemble des prédictions dans une seule et même sortie, ce qui nous oblige à utiliser la même fonction d'activation pour toutes nos sorties. On utilisera donc l'activation **linéaire** pour toutes ces sorties. On appliquera les fonctions sigmoïde et softmax pour les sorties \"présence\" et \"probablités de classe\" directement dans la fonction de coût !"
      ]
    },
    {
      "cell_type": "code",
      "execution_count": 58,
      "metadata": {
        "id": "VvgG-yHDsxyk"
      },
      "outputs": [],
      "source": [
        "from tensorflow.keras.layers import Dense, Conv2D, MaxPooling2D, Flatten, Reshape, Dropout, Input\n",
        "from tensorflow.keras.models import Model, Sequential\n",
        "from tensorflow.keras import regularizers\n",
        "\n",
        "\n",
        "def create_model_YOLO(input_shape=(64, 64, 3)):\n",
        "  input_layer = Input(shape=input_shape)\n",
        "\n",
        "  conv1 = Conv2D(32, 3, activation = 'elu', padding = 'same', kernel_initializer = 'he_normal')(input_layer)\n",
        "  conv1 = Conv2D(32, 3, activation = 'elu', padding = 'same', kernel_initializer = 'he_normal')(conv1)\n",
        "  pool1 = MaxPooling2D(pool_size=(2, 2))(conv1)\n",
        "\n",
        "  conv2 = Conv2D(64, 3, activation = 'elu', padding = 'same', kernel_initializer = 'he_normal')(pool1)\n",
        "  conv2 = Conv2D(64, 3, activation = 'elu', padding = 'same', kernel_initializer = 'he_normal')(conv2)\n",
        "  pool2 = MaxPooling2D(pool_size=(2, 2))(conv2)\n",
        "\n",
        "  conv3 = Conv2D(128, 3, activation = 'elu', padding = 'same', kernel_initializer = 'he_normal')(pool2)\n",
        "  conv3 = Conv2D(128, 3, activation = 'elu', padding = 'same', kernel_initializer = 'he_normal')(conv3)\n",
        "  pool3 = MaxPooling2D(pool_size=(2, 2))(conv3)\n",
        "\n",
        "  conv4 = Conv2D(1024, 3, activation = 'elu', padding = 'same', kernel_initializer = 'he_normal')(pool3)\n",
        "\n",
        "  output = Conv2D(1, NB_CLASSES + 5,activation = 'elu', padding = 'same', kernel_initializer = 'he_normal')(conv4)\n",
        "\n",
        "  model = Model(input_layer, output)\n",
        "\n",
        "  return model"
      ]
    },
    {
      "cell_type": "code",
      "execution_count": 59,
      "metadata": {
        "id": "OUoxSzHDtChh"
      },
      "outputs": [
        {
          "data": {
            "text/html": [
              "<pre style=\"white-space:pre;overflow-x:auto;line-height:normal;font-family:Menlo,'DejaVu Sans Mono',consolas,'Courier New',monospace\"><span style=\"font-weight: bold\">Model: \"functional\"</span>\n",
              "</pre>\n"
            ],
            "text/plain": [
              "\u001b[1mModel: \"functional\"\u001b[0m\n"
            ]
          },
          "metadata": {},
          "output_type": "display_data"
        },
        {
          "data": {
            "text/html": [
              "<pre style=\"white-space:pre;overflow-x:auto;line-height:normal;font-family:Menlo,'DejaVu Sans Mono',consolas,'Courier New',monospace\">┏━━━━━━━━━━━━━━━━━━━━━━━━━━━━━━━━━┳━━━━━━━━━━━━━━━━━━━━━━━━┳━━━━━━━━━━━━━━━┓\n",
              "┃<span style=\"font-weight: bold\"> Layer (type)                    </span>┃<span style=\"font-weight: bold\"> Output Shape           </span>┃<span style=\"font-weight: bold\">       Param # </span>┃\n",
              "┡━━━━━━━━━━━━━━━━━━━━━━━━━━━━━━━━━╇━━━━━━━━━━━━━━━━━━━━━━━━╇━━━━━━━━━━━━━━━┩\n",
              "│ input_layer (<span style=\"color: #0087ff; text-decoration-color: #0087ff\">InputLayer</span>)        │ (<span style=\"color: #00d7ff; text-decoration-color: #00d7ff\">None</span>, <span style=\"color: #00af00; text-decoration-color: #00af00\">64</span>, <span style=\"color: #00af00; text-decoration-color: #00af00\">64</span>, <span style=\"color: #00af00; text-decoration-color: #00af00\">3</span>)      │             <span style=\"color: #00af00; text-decoration-color: #00af00\">0</span> │\n",
              "├─────────────────────────────────┼────────────────────────┼───────────────┤\n",
              "│ conv2d (<span style=\"color: #0087ff; text-decoration-color: #0087ff\">Conv2D</span>)                 │ (<span style=\"color: #00d7ff; text-decoration-color: #00d7ff\">None</span>, <span style=\"color: #00af00; text-decoration-color: #00af00\">64</span>, <span style=\"color: #00af00; text-decoration-color: #00af00\">64</span>, <span style=\"color: #00af00; text-decoration-color: #00af00\">32</span>)     │           <span style=\"color: #00af00; text-decoration-color: #00af00\">896</span> │\n",
              "├─────────────────────────────────┼────────────────────────┼───────────────┤\n",
              "│ conv2d_1 (<span style=\"color: #0087ff; text-decoration-color: #0087ff\">Conv2D</span>)               │ (<span style=\"color: #00d7ff; text-decoration-color: #00d7ff\">None</span>, <span style=\"color: #00af00; text-decoration-color: #00af00\">64</span>, <span style=\"color: #00af00; text-decoration-color: #00af00\">64</span>, <span style=\"color: #00af00; text-decoration-color: #00af00\">32</span>)     │         <span style=\"color: #00af00; text-decoration-color: #00af00\">9,248</span> │\n",
              "├─────────────────────────────────┼────────────────────────┼───────────────┤\n",
              "│ max_pooling2d (<span style=\"color: #0087ff; text-decoration-color: #0087ff\">MaxPooling2D</span>)    │ (<span style=\"color: #00d7ff; text-decoration-color: #00d7ff\">None</span>, <span style=\"color: #00af00; text-decoration-color: #00af00\">32</span>, <span style=\"color: #00af00; text-decoration-color: #00af00\">32</span>, <span style=\"color: #00af00; text-decoration-color: #00af00\">32</span>)     │             <span style=\"color: #00af00; text-decoration-color: #00af00\">0</span> │\n",
              "├─────────────────────────────────┼────────────────────────┼───────────────┤\n",
              "│ conv2d_2 (<span style=\"color: #0087ff; text-decoration-color: #0087ff\">Conv2D</span>)               │ (<span style=\"color: #00d7ff; text-decoration-color: #00d7ff\">None</span>, <span style=\"color: #00af00; text-decoration-color: #00af00\">32</span>, <span style=\"color: #00af00; text-decoration-color: #00af00\">32</span>, <span style=\"color: #00af00; text-decoration-color: #00af00\">64</span>)     │        <span style=\"color: #00af00; text-decoration-color: #00af00\">18,496</span> │\n",
              "├─────────────────────────────────┼────────────────────────┼───────────────┤\n",
              "│ conv2d_3 (<span style=\"color: #0087ff; text-decoration-color: #0087ff\">Conv2D</span>)               │ (<span style=\"color: #00d7ff; text-decoration-color: #00d7ff\">None</span>, <span style=\"color: #00af00; text-decoration-color: #00af00\">32</span>, <span style=\"color: #00af00; text-decoration-color: #00af00\">32</span>, <span style=\"color: #00af00; text-decoration-color: #00af00\">64</span>)     │        <span style=\"color: #00af00; text-decoration-color: #00af00\">36,928</span> │\n",
              "├─────────────────────────────────┼────────────────────────┼───────────────┤\n",
              "│ max_pooling2d_1 (<span style=\"color: #0087ff; text-decoration-color: #0087ff\">MaxPooling2D</span>)  │ (<span style=\"color: #00d7ff; text-decoration-color: #00d7ff\">None</span>, <span style=\"color: #00af00; text-decoration-color: #00af00\">16</span>, <span style=\"color: #00af00; text-decoration-color: #00af00\">16</span>, <span style=\"color: #00af00; text-decoration-color: #00af00\">64</span>)     │             <span style=\"color: #00af00; text-decoration-color: #00af00\">0</span> │\n",
              "├─────────────────────────────────┼────────────────────────┼───────────────┤\n",
              "│ conv2d_4 (<span style=\"color: #0087ff; text-decoration-color: #0087ff\">Conv2D</span>)               │ (<span style=\"color: #00d7ff; text-decoration-color: #00d7ff\">None</span>, <span style=\"color: #00af00; text-decoration-color: #00af00\">16</span>, <span style=\"color: #00af00; text-decoration-color: #00af00\">16</span>, <span style=\"color: #00af00; text-decoration-color: #00af00\">128</span>)    │        <span style=\"color: #00af00; text-decoration-color: #00af00\">73,856</span> │\n",
              "├─────────────────────────────────┼────────────────────────┼───────────────┤\n",
              "│ conv2d_5 (<span style=\"color: #0087ff; text-decoration-color: #0087ff\">Conv2D</span>)               │ (<span style=\"color: #00d7ff; text-decoration-color: #00d7ff\">None</span>, <span style=\"color: #00af00; text-decoration-color: #00af00\">16</span>, <span style=\"color: #00af00; text-decoration-color: #00af00\">16</span>, <span style=\"color: #00af00; text-decoration-color: #00af00\">128</span>)    │       <span style=\"color: #00af00; text-decoration-color: #00af00\">147,584</span> │\n",
              "├─────────────────────────────────┼────────────────────────┼───────────────┤\n",
              "│ max_pooling2d_2 (<span style=\"color: #0087ff; text-decoration-color: #0087ff\">MaxPooling2D</span>)  │ (<span style=\"color: #00d7ff; text-decoration-color: #00d7ff\">None</span>, <span style=\"color: #00af00; text-decoration-color: #00af00\">8</span>, <span style=\"color: #00af00; text-decoration-color: #00af00\">8</span>, <span style=\"color: #00af00; text-decoration-color: #00af00\">128</span>)      │             <span style=\"color: #00af00; text-decoration-color: #00af00\">0</span> │\n",
              "├─────────────────────────────────┼────────────────────────┼───────────────┤\n",
              "│ conv2d_6 (<span style=\"color: #0087ff; text-decoration-color: #0087ff\">Conv2D</span>)               │ (<span style=\"color: #00d7ff; text-decoration-color: #00d7ff\">None</span>, <span style=\"color: #00af00; text-decoration-color: #00af00\">8</span>, <span style=\"color: #00af00; text-decoration-color: #00af00\">8</span>, <span style=\"color: #00af00; text-decoration-color: #00af00\">1024</span>)     │     <span style=\"color: #00af00; text-decoration-color: #00af00\">1,180,672</span> │\n",
              "├─────────────────────────────────┼────────────────────────┼───────────────┤\n",
              "│ conv2d_7 (<span style=\"color: #0087ff; text-decoration-color: #0087ff\">Conv2D</span>)               │ (<span style=\"color: #00d7ff; text-decoration-color: #00d7ff\">None</span>, <span style=\"color: #00af00; text-decoration-color: #00af00\">8</span>, <span style=\"color: #00af00; text-decoration-color: #00af00\">8</span>, <span style=\"color: #00af00; text-decoration-color: #00af00\">1</span>)        │        <span style=\"color: #00af00; text-decoration-color: #00af00\">82,945</span> │\n",
              "└─────────────────────────────────┴────────────────────────┴───────────────┘\n",
              "</pre>\n"
            ],
            "text/plain": [
              "┏━━━━━━━━━━━━━━━━━━━━━━━━━━━━━━━━━┳━━━━━━━━━━━━━━━━━━━━━━━━┳━━━━━━━━━━━━━━━┓\n",
              "┃\u001b[1m \u001b[0m\u001b[1mLayer (type)                   \u001b[0m\u001b[1m \u001b[0m┃\u001b[1m \u001b[0m\u001b[1mOutput Shape          \u001b[0m\u001b[1m \u001b[0m┃\u001b[1m \u001b[0m\u001b[1m      Param #\u001b[0m\u001b[1m \u001b[0m┃\n",
              "┡━━━━━━━━━━━━━━━━━━━━━━━━━━━━━━━━━╇━━━━━━━━━━━━━━━━━━━━━━━━╇━━━━━━━━━━━━━━━┩\n",
              "│ input_layer (\u001b[38;5;33mInputLayer\u001b[0m)        │ (\u001b[38;5;45mNone\u001b[0m, \u001b[38;5;34m64\u001b[0m, \u001b[38;5;34m64\u001b[0m, \u001b[38;5;34m3\u001b[0m)      │             \u001b[38;5;34m0\u001b[0m │\n",
              "├─────────────────────────────────┼────────────────────────┼───────────────┤\n",
              "│ conv2d (\u001b[38;5;33mConv2D\u001b[0m)                 │ (\u001b[38;5;45mNone\u001b[0m, \u001b[38;5;34m64\u001b[0m, \u001b[38;5;34m64\u001b[0m, \u001b[38;5;34m32\u001b[0m)     │           \u001b[38;5;34m896\u001b[0m │\n",
              "├─────────────────────────────────┼────────────────────────┼───────────────┤\n",
              "│ conv2d_1 (\u001b[38;5;33mConv2D\u001b[0m)               │ (\u001b[38;5;45mNone\u001b[0m, \u001b[38;5;34m64\u001b[0m, \u001b[38;5;34m64\u001b[0m, \u001b[38;5;34m32\u001b[0m)     │         \u001b[38;5;34m9,248\u001b[0m │\n",
              "├─────────────────────────────────┼────────────────────────┼───────────────┤\n",
              "│ max_pooling2d (\u001b[38;5;33mMaxPooling2D\u001b[0m)    │ (\u001b[38;5;45mNone\u001b[0m, \u001b[38;5;34m32\u001b[0m, \u001b[38;5;34m32\u001b[0m, \u001b[38;5;34m32\u001b[0m)     │             \u001b[38;5;34m0\u001b[0m │\n",
              "├─────────────────────────────────┼────────────────────────┼───────────────┤\n",
              "│ conv2d_2 (\u001b[38;5;33mConv2D\u001b[0m)               │ (\u001b[38;5;45mNone\u001b[0m, \u001b[38;5;34m32\u001b[0m, \u001b[38;5;34m32\u001b[0m, \u001b[38;5;34m64\u001b[0m)     │        \u001b[38;5;34m18,496\u001b[0m │\n",
              "├─────────────────────────────────┼────────────────────────┼───────────────┤\n",
              "│ conv2d_3 (\u001b[38;5;33mConv2D\u001b[0m)               │ (\u001b[38;5;45mNone\u001b[0m, \u001b[38;5;34m32\u001b[0m, \u001b[38;5;34m32\u001b[0m, \u001b[38;5;34m64\u001b[0m)     │        \u001b[38;5;34m36,928\u001b[0m │\n",
              "├─────────────────────────────────┼────────────────────────┼───────────────┤\n",
              "│ max_pooling2d_1 (\u001b[38;5;33mMaxPooling2D\u001b[0m)  │ (\u001b[38;5;45mNone\u001b[0m, \u001b[38;5;34m16\u001b[0m, \u001b[38;5;34m16\u001b[0m, \u001b[38;5;34m64\u001b[0m)     │             \u001b[38;5;34m0\u001b[0m │\n",
              "├─────────────────────────────────┼────────────────────────┼───────────────┤\n",
              "│ conv2d_4 (\u001b[38;5;33mConv2D\u001b[0m)               │ (\u001b[38;5;45mNone\u001b[0m, \u001b[38;5;34m16\u001b[0m, \u001b[38;5;34m16\u001b[0m, \u001b[38;5;34m128\u001b[0m)    │        \u001b[38;5;34m73,856\u001b[0m │\n",
              "├─────────────────────────────────┼────────────────────────┼───────────────┤\n",
              "│ conv2d_5 (\u001b[38;5;33mConv2D\u001b[0m)               │ (\u001b[38;5;45mNone\u001b[0m, \u001b[38;5;34m16\u001b[0m, \u001b[38;5;34m16\u001b[0m, \u001b[38;5;34m128\u001b[0m)    │       \u001b[38;5;34m147,584\u001b[0m │\n",
              "├─────────────────────────────────┼────────────────────────┼───────────────┤\n",
              "│ max_pooling2d_2 (\u001b[38;5;33mMaxPooling2D\u001b[0m)  │ (\u001b[38;5;45mNone\u001b[0m, \u001b[38;5;34m8\u001b[0m, \u001b[38;5;34m8\u001b[0m, \u001b[38;5;34m128\u001b[0m)      │             \u001b[38;5;34m0\u001b[0m │\n",
              "├─────────────────────────────────┼────────────────────────┼───────────────┤\n",
              "│ conv2d_6 (\u001b[38;5;33mConv2D\u001b[0m)               │ (\u001b[38;5;45mNone\u001b[0m, \u001b[38;5;34m8\u001b[0m, \u001b[38;5;34m8\u001b[0m, \u001b[38;5;34m1024\u001b[0m)     │     \u001b[38;5;34m1,180,672\u001b[0m │\n",
              "├─────────────────────────────────┼────────────────────────┼───────────────┤\n",
              "│ conv2d_7 (\u001b[38;5;33mConv2D\u001b[0m)               │ (\u001b[38;5;45mNone\u001b[0m, \u001b[38;5;34m8\u001b[0m, \u001b[38;5;34m8\u001b[0m, \u001b[38;5;34m1\u001b[0m)        │        \u001b[38;5;34m82,945\u001b[0m │\n",
              "└─────────────────────────────────┴────────────────────────┴───────────────┘\n"
            ]
          },
          "metadata": {},
          "output_type": "display_data"
        },
        {
          "data": {
            "text/html": [
              "<pre style=\"white-space:pre;overflow-x:auto;line-height:normal;font-family:Menlo,'DejaVu Sans Mono',consolas,'Courier New',monospace\"><span style=\"font-weight: bold\"> Total params: </span><span style=\"color: #00af00; text-decoration-color: #00af00\">1,550,625</span> (5.92 MB)\n",
              "</pre>\n"
            ],
            "text/plain": [
              "\u001b[1m Total params: \u001b[0m\u001b[38;5;34m1,550,625\u001b[0m (5.92 MB)\n"
            ]
          },
          "metadata": {},
          "output_type": "display_data"
        },
        {
          "data": {
            "text/html": [
              "<pre style=\"white-space:pre;overflow-x:auto;line-height:normal;font-family:Menlo,'DejaVu Sans Mono',consolas,'Courier New',monospace\"><span style=\"font-weight: bold\"> Trainable params: </span><span style=\"color: #00af00; text-decoration-color: #00af00\">1,550,625</span> (5.92 MB)\n",
              "</pre>\n"
            ],
            "text/plain": [
              "\u001b[1m Trainable params: \u001b[0m\u001b[38;5;34m1,550,625\u001b[0m (5.92 MB)\n"
            ]
          },
          "metadata": {},
          "output_type": "display_data"
        },
        {
          "data": {
            "text/html": [
              "<pre style=\"white-space:pre;overflow-x:auto;line-height:normal;font-family:Menlo,'DejaVu Sans Mono',consolas,'Courier New',monospace\"><span style=\"font-weight: bold\"> Non-trainable params: </span><span style=\"color: #00af00; text-decoration-color: #00af00\">0</span> (0.00 B)\n",
              "</pre>\n"
            ],
            "text/plain": [
              "\u001b[1m Non-trainable params: \u001b[0m\u001b[38;5;34m0\u001b[0m (0.00 B)\n"
            ]
          },
          "metadata": {},
          "output_type": "display_data"
        }
      ],
      "source": [
        "model = create_model_YOLO()\n",
        "model.summary()"
      ]
    },
    {
      "cell_type": "markdown",
      "metadata": {
        "id": "kd94rYW2tIZu"
      },
      "source": [
        "### Fonction de coût\n",
        "\n",
        "<center> <img src=\"https://drive.google.com/uc?id=1Fbt_Wh_BqZj8Pwt3-04325ItCkQp5G9X\" style=\"width:500;height:300px;\"></center>\n",
        "<caption><center> Détail de la fonction de perte définie dans l'article YOLO v1 </center></caption>\n",
        "\n",
        "Nous arrivons maintenant à la partie délicate de l'implémentation de YOLO : la définition de la fonction de coût à utiliser. En effet cette fonction de coût, qui sera appelée pendant l'entraînement, traitera des tenseurs et non des tableau *numpy*. On doit donc utiliser la librairie Tensorflow qui permet de manipuler les tenseurs. Les fonctions dont vous aurez besoin sont décrites majoritairement sur [cette page](https://www.tensorflow.org/api_docs/python/tf/math), ainsi qu'[ici](https://www.tensorflow.org/api_docs/python/tf/nn).\n",
        "\n",
        "Une partie essentielle de la fonction est déjà écrite (fonction YOLO_loss) : celle qui permet de séparer les données des cellules dites \"vide\" (la vérité terrain ne contient pas de boîte englobante) des \"non vides\". Cette fonction est apelée en première, et fait appel aux 3 sous-fonctions box_loss, coord_loss, et nobox_loss que vous devez compléter.\n",
        "\n",
        "Le détail de la fonction de coût est indiqué ci-dessus : dans l'article $\\lambda_{\\text{coord}} = 5$ et $\\lambda_{\\text{noobj}} = 0.5$. Les $x_i$, $y_i$, $w_i$, $h_i$ correspondent aux coordonnées d'une boîte englobante, $C_i$ correspond à la probabilité de présence d'un objet dans la cellule, et les $p_i(c)$ sont les probabilités de classe.\n",
        "\n",
        "A vous de compléter l'expression des sous-fonctions de la fonction de coût. **N'oubliez pas d'appliquer une sigmoïde aux présences ($C_i$) et une softmax aux probabilités de classe $p_i$) !!**\n",
        "\n",
        "**NB : cette implémentation de la fonction de coût est très simplifiée et prend en compte le fait qu'il n'y a qu'une seule boîte englobante par cellule.**\n",
        "\n",
        "**NB 2: la fonction tf.math.sqrt peut retourner NaN si elle est appelée sur une entrée négative. Un fix qui fonctionne est d'écrire tf.math.sqrt(tf.maximum(x, 1e-9)) pour qu'elle retourne une valeur proche de 0 plutôt que NaN.**\n"
      ]
    },
    {
      "cell_type": "code",
      "execution_count": null,
      "metadata": {
        "id": "2O82KwmA5iEW"
      },
      "outputs": [],
      "source": [
        "from keras import backend as K\n",
        "import tensorflow as tf\n",
        "\n",
        "### A COMPLETER\n",
        "# Définition de la fonction de perte YOLO\n",
        "def YOLOss(lambda_coord, lambda_noobj, batch_size):\n",
        "\n",
        "    # Partie \"verte\" : sous-partie concernant l'indice de confiance et les\n",
        "    # probabilités de classe dans le cas où une boîte est présente dans la cellule\n",
        "    def box_loss(y_true, y_pred):\n",
        "      for i in range(8**2):\n",
        "        for c in range(NB_CLASSES) :\n",
        "          pass\n",
        "      return\n",
        "\n",
        "    # Partie \"bleue\" : sous-partie concernant les coordonnées de boîte englobante\n",
        "    # dans le cas où une boîte est présente dans la cellule\n",
        "    def coord_loss(y_true, y_pred):\n",
        "\n",
        "      def ddd(x1,x2,y1,y2):\n",
        "        return ((x1 - x2)**2 + (y1 - y2)**2)**2\n",
        "\n",
        "      f = 0.0\n",
        "      for i in range(8**2):\n",
        "        for j in range(batch_size):\n",
        "          f += ddd(y_true[i][j][0],y_pred[i][j][0],y_true[i][j][1],y_pred[i][j][1])\n",
        "      for i in range(8**2):\n",
        "        for j in range(batch_size):\n",
        "          f += ddd(y_true[i][j][0],y_pred[i][j][0],y_true[i][j][1],y_pred[i][j][1])\n",
        "      return f\n",
        "\n",
        "\n",
        "    # Partie \"rouge\" : sous-partie concernant l'indice de confiance\n",
        "    # dans le cas où aucune boîte n'est présente dans la cellule\n",
        "    def nobox_loss(y_true, y_pred):\n",
        "      s1 = 0.0\n",
        "      for i in range(8**2):\n",
        "        s2 = 0\n",
        "        for j in range(batch_size):\n",
        "          s2 += (y_true[i][j][4] - y_pred[i][j][4])**2\n",
        "        s1 += s2\n",
        "      return s1\n",
        "\n",
        "\n",
        "    def YOLO_loss(y_true, y_pred):\n",
        "\n",
        "      # On commence par reshape les tenseurs de bs x S x S x (5B+C) à (bsxSxS) x (5B+C)\n",
        "      y_true = tf.reshape(y_true, [-1, 9])\n",
        "      y_pred = tf.reshape(y_pred, [-1, 9])\n",
        "\n",
        "      # On cherche (dans les labels y_true) les indices des cellules pour lesquelles au moins la première boîte englobante est présente\n",
        "      not_empty = tf.math.greater_equal(y_true[:, 0], tf.constant([1.0]))\n",
        "      indices = tf.range(tf.shape(y_true)[0])\n",
        "      indices_notempty_cells = indices[not_empty]\n",
        "\n",
        "      empty = tf.math.less_equal(y_true[:, 0], tf.constant([0.0]))\n",
        "      indices_empty_cells = indices[empty]\n",
        "\n",
        "      # On sépare les cellules de y_true et y_pred avec ou sans boîte englobante\n",
        "      y_true_notempty = tf.gather(y_true, indices_notempty_cells)\n",
        "      y_pred_notempty = tf.gather(y_pred, indices_notempty_cells)\n",
        "\n",
        "      y_true_empty = tf.gather(y_true, indices_empty_cells)\n",
        "      y_pred_empty = tf.gather(y_pred, indices_empty_cells)\n",
        "\n",
        "\n",
        "      return (box_loss(y_true_notempty, y_pred_notempty) + lambda_coord*coord_loss(y_true_notempty, y_pred_notempty) + lambda_noobj*nobox_loss(y_true_empty, y_pred_empty))/batch_size\n",
        "\n",
        "\n",
        "    # Return a function\n",
        "    return YOLO_loss"
      ]
    },
    {
      "cell_type": "markdown",
      "metadata": {
        "id": "4eAP6WKLto_b"
      },
      "source": [
        "### Apprentissage\n",
        "\n",
        "Comme d'habitude, on sépare nos données en plusieurs ensembles (ici apprentissage et validation suffiront)."
      ]
    },
    {
      "cell_type": "code",
      "execution_count": null,
      "metadata": {
        "id": "XAVR5EPGtUlo"
      },
      "outputs": [],
      "source": [
        "# Séparation des données en ensemble de validation et d'apprentissage\n",
        "indices = np.arange(x.shape[0], dtype='int')\n",
        "np.random.seed(1)\n",
        "np.random.shuffle(indices)\n",
        "\n",
        "x_train = x[indices[:1355]]\n",
        "y_train = [y[i] for i in indices[:1355]]\n",
        "\n",
        "x_val = x[indices[1355:]]\n",
        "y_val = [y[i] for i in indices[1355:]]\n",
        "\n",
        "y_val_YOLO = set_box_for_yolo(y_val)\n"
      ]
    },
    {
      "cell_type": "markdown",
      "metadata": {
        "id": "_E9nT-cxtvT2"
      },
      "source": [
        "Prenez le temps de tester votre modèle et votre fonction de coût, ainsi que vos réglages d'hyperparamètres, en sur-apprenant sur une image d'abord, puis sur un batch d'images. Entraînez votre réseau et visualisez ses prédictions sur les données d'entraînement, puis de validation, pour obtenir une intuition sur les valeurs de *loss* permettant d'obtenir des résultats \"acceptables\"."
      ]
    },
    {
      "cell_type": "code",
      "execution_count": null,
      "metadata": {
        "id": "0anQ56HrttMr"
      },
      "outputs": [],
      "source": [
        "from tensorflow.keras.optimizers import Adam\n",
        "from tensorflow.keras.callbacks import ModelCheckpoint\n",
        "import tensorflow as tf\n",
        "\n",
        "batch_size=16\n",
        "model = create_model_YOLO()\n",
        "opt = Adam(learning_rate=3e-4) # NB : n'hésitez pas à tester d'autres valeurs de learning rate\n",
        "\n",
        "train_gen = YOLOSequence(x_train, y_train, batch_size, augmentations=AUGMENTATIONS_TRAIN)\n",
        "\n",
        "# Comme l'entraînement est instable, on déclenche une sauvegarde du modèle à chaque fois que\n",
        "# la perte de validation atteint un nouveau minimum\n",
        "model_saver = ModelCheckpoint('tmp/best_weights', monitor='val_loss', verbose=1, save_weights_only=True, save_best_only=True, mode='min')\n",
        "\n",
        "loss=[YOLOss(5, 0.5, batch_size)]\n",
        "\n",
        "model.compile(loss=loss,\n",
        "              optimizer=opt)\n",
        "\n",
        "history = model.fit(train_gen,\n",
        "              epochs=150,\n",
        "              batch_size=batch_size,\n",
        "              validation_data=(x_val/255, y_val_YOLO),\n",
        "              callbacks = [model_saver])\n"
      ]
    },
    {
      "cell_type": "markdown",
      "metadata": {
        "id": "fyCNRDtxu3eC"
      },
      "source": [
        "### Test et affichage des résultats\n",
        "\n",
        "#### Test de la version à l'issue de l'entraînement\n",
        "\n",
        "**Sur l'ensemble d'apprentissage**"
      ]
    },
    {
      "cell_type": "code",
      "execution_count": null,
      "metadata": {
        "id": "ChmIEq9SvBeH"
      },
      "outputs": [],
      "source": [
        "y_pred = model.predict(x_train/255)\n",
        "y_pred_YOLO = get_box_from_yolo(y_pred, confidence_threshold=0.3, mode='pred')\n",
        "print_data_detection(x_train, y_pred_YOLO)"
      ]
    },
    {
      "cell_type": "code",
      "execution_count": null,
      "metadata": {
        "id": "LPqwEGLAvGYx"
      },
      "outputs": [],
      "source": [
        "print_data_detection(x_train, y_pred_YOLO)"
      ]
    },
    {
      "cell_type": "markdown",
      "metadata": {
        "id": "7_rcK_9uvODw"
      },
      "source": [
        "**Sur l'ensemble de validation**"
      ]
    },
    {
      "cell_type": "code",
      "execution_count": null,
      "metadata": {
        "id": "LKK_L5k_vGwH"
      },
      "outputs": [],
      "source": [
        "y_pred = model.predict(x_val/255)\n",
        "y_pred_YOLO = get_box_from_yolo(y_pred, confidence_threshold=0.5, mode='pred')\n",
        "print_data_detection(x_val, y_pred_YOLO)"
      ]
    },
    {
      "cell_type": "code",
      "execution_count": null,
      "metadata": {
        "id": "hOClF65EvKUI"
      },
      "outputs": [],
      "source": [
        "print_data_detection(x_val, y_pred_YOLO)"
      ]
    },
    {
      "cell_type": "markdown",
      "metadata": {
        "id": "C2Gv1HJw5Fjv"
      },
      "source": [
        "#### Test de la meilleure version sauvegardée\n",
        "\n",
        "La cellule ci-dessous vous permettra de charger les poids sauvegardés lorsque la meilleur performance a été atteinte sur l'ensemble de validation pendant l'entraînement."
      ]
    },
    {
      "cell_type": "code",
      "execution_count": null,
      "metadata": {
        "id": "c3SizeuJ5Ild"
      },
      "outputs": [],
      "source": [
        "model.load_weights('tmp/best_weights')"
      ]
    },
    {
      "cell_type": "markdown",
      "metadata": {
        "id": "_IpuvyWd5LCl"
      },
      "source": [
        "**Sur l'ensemble d'apprentissage**"
      ]
    },
    {
      "cell_type": "code",
      "execution_count": null,
      "metadata": {
        "id": "jnkM9FJi5Pvx"
      },
      "outputs": [],
      "source": [
        "y_pred = model.predict(x_train/255)\n",
        "y_pred_YOLO = get_box_from_yolo(y_pred, confidence_threshold=0.3, mode='pred')\n",
        "print_data_detection(x_train, y_pred_YOLO)"
      ]
    },
    {
      "cell_type": "code",
      "execution_count": null,
      "metadata": {
        "id": "H1IZ5ETF5RUc"
      },
      "outputs": [],
      "source": [
        "print_data_detection(x_train, y_pred_YOLO)"
      ]
    },
    {
      "cell_type": "markdown",
      "metadata": {
        "id": "Ua8OpNLs5W06"
      },
      "source": [
        "**Sur l'ensemble de validation**"
      ]
    },
    {
      "cell_type": "code",
      "execution_count": null,
      "metadata": {
        "id": "As1bbe2g5TDF"
      },
      "outputs": [],
      "source": [
        "y_pred = model.predict(x_val/255)\n",
        "y_pred_YOLO = get_box_from_yolo(y_pred, confidence_threshold=0.3, mode='pred')\n",
        "print_data_detection(x_val, y_pred_YOLO)"
      ]
    },
    {
      "cell_type": "code",
      "execution_count": null,
      "metadata": {
        "id": "EHzzeaLF5axn"
      },
      "outputs": [],
      "source": [
        "print_data_detection(x_val, y_pred_YOLO)"
      ]
    }
  ],
  "metadata": {
    "accelerator": "GPU",
    "colab": {
      "provenance": [],
      "toc_visible": true
    },
    "kernelspec": {
      "display_name": "Python 3",
      "language": "python",
      "name": "python3"
    },
    "language_info": {
      "codemirror_mode": {
        "name": "ipython",
        "version": 3
      },
      "file_extension": ".py",
      "mimetype": "text/x-python",
      "name": "python",
      "nbconvert_exporter": "python",
      "pygments_lexer": "ipython3",
      "version": "3.13.2"
    }
  },
  "nbformat": 4,
  "nbformat_minor": 0
}
