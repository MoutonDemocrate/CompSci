{
 "cells": [
  {
   "attachments": {},
   "cell_type": "markdown",
   "metadata": {},
   "source": [
    "DM $IX$ S2I -- Bontinck Laérian PSI*\n",
    "\n",
    "# Partie VI - Analyse de la loi de commande :\n",
    "\n",
    "## Q26 :"
   ]
  },
  {
   "cell_type": "code",
   "execution_count": 1,
   "metadata": {},
   "outputs": [],
   "source": [
    "import time\n",
    "global rapide\n",
    "global lente"
   ]
  },
  {
   "cell_type": "code",
   "execution_count": null,
   "metadata": {},
   "outputs": [],
   "source": [
    "def consigne(distance, distance_verin) :\n",
    "    eps = distance - distance_verin\n",
    "    if eps > 1 :\n",
    "        cons = rapide\n",
    "    else :\n",
    "        cons = lente\n",
    "    return cons"
   ]
  },
  {
   "attachments": {},
   "cell_type": "markdown",
   "metadata": {},
   "source": [
    "## Q27"
   ]
  },
  {
   "cell_type": "code",
   "execution_count": null,
   "metadata": {},
   "outputs": [],
   "source": [
    "def setup():\n",
    "    pinMode(2,OUTPUT)\n",
    "    digitalWrite(2,LOW)\n",
    "    pinMode(4,INPUT)"
   ]
  },
  {
   "attachments": {},
   "cell_type": "markdown",
   "metadata": {},
   "source": [
    "## Q28"
   ]
  },
  {
   "cell_type": "code",
   "execution_count": null,
   "metadata": {},
   "outputs": [],
   "source": [
    "def impulsion(S):\n",
    "    digitalWrite(S,HIGH)\n",
    "    time.sleep(0.0002)\n",
    "    digitalWrite(S,LOW)"
   ]
  },
  {
   "attachments": {},
   "cell_type": "markdown",
   "metadata": {},
   "source": [
    "## Q29"
   ]
  },
  {
   "attachments": {},
   "cell_type": "markdown",
   "metadata": {},
   "source": [
    "On mesure le temps à l'instant juste avant que E ne soit actif.\n",
    "Une fois que E est actif, et juste avant qu'il ne redevienne inactif, on mesure le temps et on y soustrait le temps mesuré quand l'impulsion a commencé. On trouve ainsi la durée de l'impulsion.\n",
    "\n",
    "E est ici l'entrée de la carte Arduino qu'on étudie.\n",
    "\n",
    "## Q30"
   ]
  },
  {
   "cell_type": "code",
   "execution_count": null,
   "metadata": {},
   "outputs": [],
   "source": [
    "def mesure():\n",
    "    impulsion(trig)\n",
    "    mes = calcul_distance(echo)\n",
    "    return mes # type(mes) = float"
   ]
  }
 ],
 "metadata": {
  "kernelspec": {
   "display_name": "base",
   "language": "python",
   "name": "python3"
  },
  "language_info": {
   "codemirror_mode": {
    "name": "ipython",
    "version": 3
   },
   "file_extension": ".py",
   "mimetype": "text/x-python",
   "name": "python",
   "nbconvert_exporter": "python",
   "pygments_lexer": "ipython3",
   "version": "3.9.7"
  },
  "orig_nbformat": 4,
  "vscode": {
   "interpreter": {
    "hash": "8b8978116568b1d069d8e607a91d0e8d2589564d40c3c930313e1cdcd6b0112c"
   }
  }
 },
 "nbformat": 4,
 "nbformat_minor": 2
}
