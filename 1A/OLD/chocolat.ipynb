{
 "cells": [
  {
   "cell_type": "code",
   "execution_count": null,
   "metadata": {},
   "outputs": [],
   "source": [
    "import numpy as np"
   ]
  },
  {
   "attachments": {},
   "cell_type": "markdown",
   "metadata": {},
   "source": [
    "# TD - Jeux à 2 joueurs\n",
    "Exercice 1 (Jeu du chocolat empoisonné)\n",
    "\n",
    "## 1. Graphe biparti\n",
    "\n",
    "```mermaid\n",
    "graph LR\n",
    "    subgraph Eve\n",
    "    E0-->E1-->E2-->E3-->E4-->E5\n",
    "    end\n",
    "    subgraph Adam\n",
    "    A0-->A1-->A2-->A3-->A4-->A5\n",
    "    end\n",
    "    E0 --> A1\n",
    "    E0 --> A2\n",
    "    E0 --> A3\n",
    "    E1 --> A5\n",
    "    E4 --> A5\n",
    "    A2 --> E1\n",
    "    A2 --> E4\n",
    "    A3 --> E4\n",
    "    A3 --> E5\n",
    "    style A5 fill:#a00\n",
    "    style A2 fill:#00a\n",
    "    style E4 fill:#0a0\n",
    "    style E1 fill:#0a0\n",
    "```\n",
    "Les positions où Eve gagnent sont ($A5$,) $E1$, $A2$ et $E4$. \n",
    "\n",
    "La stratégie gagnant est de commencer en allant en $A2$ pour Eve.\n",
    "\n",
    "C'est la seule possible"
   ]
  },
  {
   "attachments": {},
   "cell_type": "markdown",
   "metadata": {},
   "source": [
    "## 2. Arbre de décision\n",
    "\n",
    "```mermaid\n",
    "graph TB\n",
    "    E0[0] --> A1((1)) --> E5[5]\n",
    "    E0[0] --> A2((2)) --> E4[4] --> A5((5))\n",
    "    E0[0] --> A3((3)) --> E4[4]\n",
    "    A2 --> E1[1] --> A5((5))\n",
    "    A3 --> E5\n",
    "```"
   ]
  },
  {
   "attachments": {},
   "cell_type": "markdown",
   "metadata": {},
   "source": [
    "## 3. Recherche des positions gagnantes"
   ]
  },
  {
   "cell_type": "code",
   "execution_count": 18,
   "metadata": {},
   "outputs": [
    {
     "name": "stdout",
     "output_type": "stream",
     "text": [
      "{0: [1, 2, 3], 1: [5], 2: [1, 4], 3: [4, 5], 4: [5], 5: []}\n",
      "[5]\n",
      "\n",
      "{0: [1, 2, 3], 1: [], 2: [1, 4], 3: [4], 4: []}\n",
      "[1, 4]\n",
      "\n",
      "{0: [2, 3], 2: [], 3: []}\n",
      "[2, 3]\n",
      "\n",
      "[5, 2, 3]\n"
     ]
    }
   ],
   "source": [
    "G = {\n",
    "    0:[1,2,3],\n",
    "    1:[5],\n",
    "    2:[1,4],\n",
    "    3:[4,5],\n",
    "    4:[5],\n",
    "    5:[]\n",
    "}\n",
    "\n",
    "def findCore(d):\n",
    "    dic = d.copy()\n",
    "    core=[]\n",
    "    temp=[]\n",
    "    turn=1\n",
    "    while len(dic) > 1 : \n",
    "        for point in dic :\n",
    "            if dic[point] == [] :\n",
    "                temp.append(point)\n",
    "        print(dic)\n",
    "        print(temp)\n",
    "        print()\n",
    "        for el in temp :\n",
    "            if turn == 1 :\n",
    "                core.append(el)\n",
    "            del dic[el]\n",
    "            for p in dic :\n",
    "                if el in dic[p] :\n",
    "                    dic[p].remove(el)\n",
    "        temp = []\n",
    "        if turn == 1 :\n",
    "            turn=2\n",
    "        elif turn == 2:\n",
    "            turn=1\n",
    "    return core\n",
    "\n",
    "print(findCore(G))\n"
   ]
  },
  {
   "cell_type": "code",
   "execution_count": 13,
   "metadata": {},
   "outputs": [
    {
     "name": "stdout",
     "output_type": "stream",
     "text": [
      "{0: [1, 2, 3], 1: [5], 2: [1, 4], 3: [4, 5], 4: [5]}\n"
     ]
    }
   ],
   "source": [
    "G = {\n",
    "    0:[1,2,3],\n",
    "    1:[5],\n",
    "    2:[1,4],\n",
    "    3:[4,5],\n",
    "    4:[5],\n",
    "    5:[]\n",
    "}\n",
    "\n",
    "del G[5]\n",
    "print(G)"
   ]
  }
 ],
 "metadata": {
  "kernelspec": {
   "display_name": "base",
   "language": "python",
   "name": "python3"
  },
  "language_info": {
   "codemirror_mode": {
    "name": "ipython",
    "version": 3
   },
   "file_extension": ".py",
   "mimetype": "text/x-python",
   "name": "python",
   "nbconvert_exporter": "python",
   "pygments_lexer": "ipython3",
   "version": "3.9.7"
  },
  "orig_nbformat": 4
 },
 "nbformat": 4,
 "nbformat_minor": 2
}
