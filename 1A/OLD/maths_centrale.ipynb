{
 "cells": [
  {
   "cell_type": "code",
   "execution_count": 26,
   "metadata": {},
   "outputs": [],
   "source": [
    "import numpy as np\n",
    "import numpy.linalg as alg\n",
    "import numpy.random as rd\n",
    "import matplotlib.pyplot as plt"
   ]
  },
  {
   "attachments": {},
   "cell_type": "markdown",
   "metadata": {},
   "source": [
    "# Séance du 28 Mars 2023\n",
    "\n",
    "## Planche n°4 - Calcul matriciel\n",
    "\n",
    "#### Soit $A_n$ une matrice telle que $\\forall j \\in \\{1,...,n\\}, a_{1,j} = a_{n,j} = a_{j,1} = 1$\n",
    "\n",
    "### 1. Donner le rang de $A_n$"
   ]
  },
  {
   "cell_type": "code",
   "execution_count": 10,
   "metadata": {},
   "outputs": [
    {
     "name": "stdout",
     "output_type": "stream",
     "text": [
      "[[1. 1. 1. 1. 1. 1. 1. 1. 1. 1.]\n",
      " [1. 0. 0. 0. 0. 0. 0. 0. 0. 0.]\n",
      " [1. 0. 0. 0. 0. 0. 0. 0. 0. 0.]\n",
      " [1. 0. 0. 0. 0. 0. 0. 0. 0. 0.]\n",
      " [1. 0. 0. 0. 0. 0. 0. 0. 0. 0.]\n",
      " [1. 0. 0. 0. 0. 0. 0. 0. 0. 0.]\n",
      " [1. 0. 0. 0. 0. 0. 0. 0. 0. 0.]\n",
      " [1. 0. 0. 0. 0. 0. 0. 0. 0. 0.]\n",
      " [1. 0. 0. 0. 0. 0. 0. 0. 0. 0.]\n",
      " [1. 1. 1. 1. 1. 1. 1. 1. 1. 1.]]\n",
      "Le rang de A999 est 2\n"
     ]
    }
   ],
   "source": [
    "def A(n) :\n",
    "    A = np.zeros((n,n))\n",
    "    for i in range(n) :\n",
    "        for j in range(n) :\n",
    "            if i == 0 or i == n-1 or j == 0 :\n",
    "                A[i,j] = 1\n",
    "    return A\n",
    "\n",
    "print(A(10))"
   ]
  },
  {
   "attachments": {},
   "cell_type": "markdown",
   "metadata": {},
   "source": [
    "Le rang de $A_n$ est 2.\n",
    "\n",
    "### 2. Calculer les valeurs propres de $A_n$ quand $n \\in \\{2,...,6\\}$"
   ]
  },
  {
   "cell_type": "code",
   "execution_count": 17,
   "metadata": {},
   "outputs": [
    {
     "name": "stdout",
     "output_type": "stream",
     "text": [
      "Avec n=2, les valeurs propres sont [2.0, 0.0]\n",
      "Avec n=3, les valeurs propres sont [2.4142135623730954, -0.41421356237309537, 4.372894568791883e-17]\n",
      "Avec n=4, les valeurs propres sont [2.732050807568878, -0.7320508075688774, 1.4395271239290154e-16, 1.232595164407831e-32]\n",
      "Avec n=5, les valeurs propres sont [2.9999999999999987, -1.0, -1.6463839365748975e-17, 4.811906115089025e-33, -7.893394026108602e-33]\n",
      "Avec n=6, les valeurs propres sont [3.2360679774997907, -1.2360679774997891, -7.998977154694683e-18, 4.6872828623963634e-32, 0.0, 2.430977952349616e-33]\n"
     ]
    }
   ],
   "source": [
    "for n in range(2,7) :\n",
    "    print(f\"Avec n={n}, les valeurs propres sont {[lam for lam in alg.eigvals(A(n))]}\")"
   ]
  },
  {
   "attachments": {},
   "cell_type": "markdown",
   "metadata": {},
   "source": [
    "### 3. Calculer $tr(A_n^2)$"
   ]
  },
  {
   "attachments": {},
   "cell_type": "markdown",
   "metadata": {},
   "source": [
    "### 4. En déduire les valeurs propres de $A_n$\n",
    "\n",
    "## Planche n°1 - Probabilités\n",
    "\n",
    "### 1. Écrire une fonction simulant n tirages et renvoyant la liste $[S_0,...,S_n]$"
   ]
  },
  {
   "cell_type": "code",
   "execution_count": 28,
   "metadata": {},
   "outputs": [],
   "source": [
    "def listOfTirages(n):\n",
    "    urne = [2,1]\n",
    "    L = [0]\n",
    "    S = 0\n",
    "    for i in range(1,n+1):\n",
    "        bouleTirée = rd.randint(1,urne[0]+urne[1]+1)\n",
    "        bouleRouge = True if bouleTirée >= urne[0] else False\n",
    "        if bouleRouge :\n",
    "            S += 1\n",
    "            urne[0] += 1\n",
    "        else :\n",
    "            urne[1] += 1\n",
    "        L.append(S)\n",
    "    return L"
   ]
  },
  {
   "attachments": {},
   "cell_type": "markdown",
   "metadata": {},
   "source": [
    "### 2. Écrire une fonction renvoyant $E(S_n)$ pour $n$ allant de 0 à 20\n",
    "\n",
    "$E(S_n) = \\sum^{n}_{k=0} k.P(S_n = k)$"
   ]
  },
  {
   "cell_type": "code",
   "execution_count": 29,
   "metadata": {},
   "outputs": [
    {
     "data": {
      "image/png": "[encoded data removed]",
      "text/plain": [
       "<Figure size 432x288 with 1 Axes>"
      ]
     },
     "metadata": {
      "needs_background": "light"
     },
     "output_type": "display_data"
    }
   ],
   "source": [
    "def esper(s=20, p=100):\n",
    "    esperance = [0 for i in range(s)]\n",
    "    esperanceTot = [0 for i in range(s)]\n",
    "    for lmao in range(p) :\n",
    "        S = listOfTirages(s)\n",
    "        for i in range(s) :\n",
    "            esperance[i] += S[i]\n",
    "    for i in range(s) :\n",
    "        esperanceTot[i] = esperance[i]/p\n",
    "    return esperanceTot\n",
    "\n",
    "plt.plot(range(50),esper(50,200))\n",
    "plt.show()"
   ]
  },
  {
   "attachments": {},
   "cell_type": "markdown",
   "metadata": {},
   "source": [
    "### 3. Déterminer la loi conditionelle de $X_{n+1}$ sachant que $S_n = k$"
   ]
  }
 ],
 "metadata": {
  "kernelspec": {
   "display_name": "base",
   "language": "python",
   "name": "python3"
  },
  "language_info": {
   "codemirror_mode": {
    "name": "ipython",
    "version": 3
   },
   "file_extension": ".py",
   "mimetype": "text/x-python",
   "name": "python",
   "nbconvert_exporter": "python",
   "pygments_lexer": "ipython3",
   "version": "3.9.7"
  },
  "orig_nbformat": 4
 },
 "nbformat": 4,
 "nbformat_minor": 2
}
