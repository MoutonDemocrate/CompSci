{
 "cells": [
  {
   "cell_type": "code",
   "execution_count": 1,
   "metadata": {},
   "outputs": [],
   "source": [
    "import numpy as np\n",
    "import os #\n",
    "from matplotlib import pyplot as plt\n",
    "from sqlite3 import *\n",
    "\n",
    "os.chdir(r\"/home/lae/Documents/Work\")\n",
    "\n",
    "def requete(chaine):\n",
    "    bddiris=connect(\"/home/lae/Documents/Work/CompSci/Iris.sqlite\") #Connection a une base ou creation\n",
    "    c=bddiris.cursor()\n",
    "    resultatRequete='il y a une erreur dans votre requete'\n",
    "    try :\n",
    "        c.execute(chaine)\n",
    "        resultatRequete = c.fetchall()\n",
    "        bddiris.close()\n",
    "    except :\n",
    "        bddiris.close()\n",
    "    return resultatRequete"
   ]
  },
  {
   "attachments": {},
   "cell_type": "markdown",
   "metadata": {},
   "source": [
    "# K-Closest Neighbours \n",
    "\n",
    "## Exercice 1\n",
    "\n",
    " - SELECT * FROM especes ;\n",
    "  \n",
    " - SELECT COUNT(*) FROM iris ;\n",
    "  \n",
    " - SELECT espece, COUNT(*) <br>\n",
    "FROM iris <br>\n",
    "JOIN especes ON idEspece=especes.Id <br>\n",
    "GROUP BY espece ;\n",
    "\n",
    " - SELECT COUNT(*) <br>\n",
    "FROM iris <br>\n",
    "WHERE idEspece IS NULL ;\n",
    "\n",
    " - baseDApprentissage=requete(\"SELECT * FROM iris WHERE idEspece IS NOT NULL ;\")\n",
    "  \n",
    " - irisAReferencer=requete(\"SELECT * FROM iris WHERE idEspece IS NULL ;\")"
   ]
  },
  {
   "attachments": {},
   "cell_type": "markdown",
   "metadata": {},
   "source": [
    "## Exercice 2\n",
    "### Conversion to numpy.array"
   ]
  },
  {
   "cell_type": "code",
   "execution_count": 2,
   "metadata": {},
   "outputs": [],
   "source": [
    "def convertToArray(database):\n",
    "    lmao = np.zeros((len(database),len(database[0])))\n",
    "    for l in range(len(database)) :\n",
    "        for c in range(len(database[0])) :\n",
    "            lmao[l,c] = database[l][c]\n",
    "    return lmao"
   ]
  },
  {
   "cell_type": "code",
   "execution_count": 3,
   "metadata": {},
   "outputs": [],
   "source": [
    "ogBase=requete(\"SELECT * FROM iris WHERE idEspece IS NOT NULL ;\")\n",
    "toRef=requete(\"SELECT * FROM iris WHERE idEspece IS NULL ;\")\n",
    "\n",
    "\n",
    "ogBase = convertToArray(ogBase)\n",
    "toRef = convertToArray(toRef)"
   ]
  },
  {
   "attachments": {},
   "cell_type": "markdown",
   "metadata": {},
   "source": [
    "## Exercice\n",
    "### Data normalisation\n",
    "\n",
    " - $X_{norm} = \\frac{X - min(X)}{max(X)-min(X)}$"
   ]
  },
  {
   "cell_type": "code",
   "execution_count": 4,
   "metadata": {},
   "outputs": [
    {
     "name": "stdout",
     "output_type": "stream",
     "text": [
      "5.142857142857143\n",
      "[0.0, 0.1, 0.3, 0.6, 0.7, 0.9, 1.0]\n"
     ]
    }
   ],
   "source": [
    "def avg(L):\n",
    "    total = 0\n",
    "    for i in L :\n",
    "        total += i\n",
    "    return total/len(L)\n",
    "\n",
    "test = [0,1,3,6,7,9,10]\n",
    "print(avg(test))\n",
    "\n",
    "for i in range(len(test)) :\n",
    "    test[i] = (test[i]-min(test))/(max(test)-min(test))\n",
    "print(test)"
   ]
  },
  {
   "cell_type": "code",
   "execution_count": 5,
   "metadata": {},
   "outputs": [],
   "source": [
    "def avg(thing):\n",
    "    summ=0\n",
    "    for i in thing:\n",
    "        summ+=i\n",
    "    return summ/len(thing)\n",
    "\n",
    "def normerDonnees(aNormer,pourMaxMin):\n",
    "    L,C=np.shape(aNormer)\n",
    "    resu=np.zeros((L,C))\n",
    "    resu[:,C-1]=aNormer[:,C-1]\n",
    "    resu[:,0]=aNormer[:,0]\n",
    "    for c in range(1,C-1):\n",
    "        mini=min(pourMaxMin[:,c])\n",
    "        maxi=max(pourMaxMin[:,c])\n",
    "        resu[:,c]=(aNormer[:,c]-mini)/(maxi-mini)\n",
    "    return resu\n",
    "\n",
    "ogBaseNorm=normerDonnees(ogBase,ogBase)\n",
    "toRefNorm=normerDonnees(toRef,ogBase)"
   ]
  },
  {
   "attachments": {},
   "cell_type": "markdown",
   "metadata": {},
   "source": [
    "## Distance"
   ]
  },
  {
   "cell_type": "code",
   "execution_count": 14,
   "metadata": {},
   "outputs": [
    {
     "name": "stdout",
     "output_type": "stream",
     "text": [
      "5.656854249492381\n"
     ]
    }
   ],
   "source": [
    "def distc(x1,x2):\n",
    "    summ = 0\n",
    "    for i in range(len(x1[1:-1])):\n",
    "        summ += (x1[1+i] - x2[1+i])**2\n",
    "    return summ**0.5\n",
    "\n",
    "x1=np.array([1., 2., 3. , 4.])\n",
    "x2=np.array([5., 6., 7. , 8.])\n",
    "print(distc(x1,x2))\n"
   ]
  },
  {
   "cell_type": "code",
   "execution_count": 17,
   "metadata": {},
   "outputs": [
    {
     "name": "stdout",
     "output_type": "stream",
     "text": [
      "[[0.2674840070616699, 1.0], [0.10959080261763837, 1.0], [0.03444051416310962, 1.0], [0.05988663985485689, 1.0], [0.1986737585919739, 1.0], [0.23053754218397435, 1.0], [0.1320276062331468, 1.0], [0.32038297678978045, 1.0], [0.38573993377916765, 1.0], [0.22291830198226506, 1.0], [0.16500413447510423, 1.0], [0.1158923939480199, 1.0], [0.22291830198226506, 1.0], [0.33109198124922, 1.0], [0.05603486046828511, 1.0], [0.05405793306195168, 1.0], [0.6560378460556691, 1.0], [0.25553976286997815, 1.0], [0.1734168222786314, 1.0], [0.20278253005882835, 1.0], [0.2798841321849957, 1.0], [0.1625116545459619, 1.0], [0.21292935727077128, 1.0], [0.12130729993544663, 1.0], [0.10907180635060813, 1.0], [0.9142022662608491, 2.0], [1.0242886469489485, 2.0], [1.0715160335839422, 2.0], [0.902578321660311, 2.0], [0.7266135929718232, 2.0], [0.8377851940508066, 2.0], [0.8093135892082409, 2.0], [0.7886922612306435, 2.0], [1.044017493898185, 2.0], [0.8517048798730923, 2.0], [0.8743967738640659, 2.0], [0.9743923160847147, 2.0], [1.029248594022844, 2.0], [0.7545397782675568, 2.0], [0.8661056397366015, 2.0], [0.8624901759378112, 2.0], [0.8829399500960539, 2.0], [0.8294503254644306, 2.0], [0.80269877386258, 2.0], [0.8352866302483681, 2.0], [0.7497944866280664, 2.0], [0.7931714944692622, 2.0], [0.8482857162521649, 2.0], [0.7157568487009572, 2.0], [0.8029893294961162, 2.0], [1.2696139456799878, 3.0], [1.0518882162901604, 3.0], [1.0238953654776908, 3.0], [1.246112447057675, 3.0], [1.2188134339188468, 3.0], [1.373406271883755, 3.0], [1.4669652214487532, 3.0], [1.272990402181179, 3.0], [1.0261456292635185, 3.0], [1.0992616832531226, 3.0], [1.4844701688072717, 3.0], [1.2700258836707854, 3.0], [1.117316676413155, 3.0], [1.0036601834713637, 3.0], [1.235824911951822, 3.0], [1.3213423338256165, 3.0], [1.257268112936448, 3.0], [1.106936498593839, 3.0], [1.3324281023056197, 3.0], [1.3499127665047153, 3.0], [1.256137069765125, 3.0], [1.1728535213729736, 3.0], [1.1514233566335972, 3.0], [1.207843768720912, 3.0], [1.0354846219111493, 3.0]]\n"
     ]
    }
   ],
   "source": [
    "def distance(ref,og):\n",
    "    final = []\n",
    "    for i in range(len(og)) :\n",
    "        d = distc(ref,og[i])\n",
    "        c = og[i][5]\n",
    "        final.append([d,c])\n",
    "    return final\n",
    "\n",
    "testDist = distance(toRefNorm[0],ogBaseNorm)\n",
    "print(testDist)"
   ]
  },
  {
   "cell_type": "code",
   "execution_count": 21,
   "metadata": {},
   "outputs": [
    {
     "name": "stdout",
     "output_type": "stream",
     "text": [
      "[[0.03444051416310962, 1.0], [0.05405793306195168, 1.0], [0.05603486046828511, 1.0], [0.05988663985485689, 1.0], [0.10907180635060813, 1.0], [0.10959080261763837, 1.0], [0.1158923939480199, 1.0], [0.12130729993544663, 1.0], [0.1320276062331468, 1.0], [0.1625116545459619, 1.0], [0.16500413447510423, 1.0], [0.1734168222786314, 1.0], [0.1986737585919739, 1.0], [0.20278253005882835, 1.0], [0.21292935727077128, 1.0], [0.22291830198226506, 1.0], [0.22291830198226506, 1.0], [0.23053754218397435, 1.0], [0.25553976286997815, 1.0], [0.2674840070616699, 1.0], [0.2798841321849957, 1.0], [0.32038297678978045, 1.0], [0.33109198124922, 1.0], [0.38573993377916765, 1.0], [0.6560378460556691, 1.0], [0.7157568487009572, 2.0], [0.7266135929718232, 2.0], [0.7497944866280664, 2.0], [0.7545397782675568, 2.0], [0.7886922612306435, 2.0], [0.7931714944692622, 2.0], [0.80269877386258, 2.0], [0.8029893294961162, 2.0], [0.8093135892082409, 2.0], [0.8294503254644306, 2.0], [0.8352866302483681, 2.0], [0.8377851940508066, 2.0], [0.8482857162521649, 2.0], [0.8517048798730923, 2.0], [0.8624901759378112, 2.0], [0.8661056397366015, 2.0], [0.8743967738640659, 2.0], [0.8829399500960539, 2.0], [0.902578321660311, 2.0], [0.9142022662608491, 2.0], [0.9743923160847147, 2.0], [1.0036601834713637, 3.0], [1.0238953654776908, 3.0], [1.0242886469489485, 2.0], [1.0261456292635185, 3.0], [1.029248594022844, 2.0], [1.0354846219111493, 3.0], [1.044017493898185, 2.0], [1.0518882162901604, 3.0], [1.0715160335839422, 2.0], [1.0992616832531226, 3.0], [1.106936498593839, 3.0], [1.117316676413155, 3.0], [1.1514233566335972, 3.0], [1.1728535213729736, 3.0], [1.207843768720912, 3.0], [1.2188134339188468, 3.0], [1.235824911951822, 3.0], [1.246112447057675, 3.0], [1.256137069765125, 3.0], [1.257268112936448, 3.0], [1.2696139456799878, 3.0], [1.2700258836707854, 3.0], [1.272990402181179, 3.0], [1.3213423338256165, 3.0], [1.3324281023056197, 3.0], [1.3499127665047153, 3.0], [1.373406271883755, 3.0], [1.4669652214487532, 3.0], [1.4844701688072717, 3.0]]\n"
     ]
    }
   ],
   "source": [
    "def sorter(tab):\n",
    "    tab.sort(key = lambda x:x[0])\n",
    "    return tab\n",
    "\n",
    "distSorted = sorter(testDist)\n",
    "print(distSorted)\n"
   ]
  },
  {
   "cell_type": "code",
   "execution_count": 29,
   "metadata": {},
   "outputs": [
    {
     "data": {
      "text/plain": [
       "1"
      ]
     },
     "execution_count": 29,
     "metadata": {},
     "output_type": "execute_result"
    }
   ],
   "source": [
    "def kcn(tab, k):\n",
    "    D = {}\n",
    "    for i in range(0,k):\n",
    "        if int(tab[i][1]) not in D :\n",
    "            D[int(tab[i][1])] = 0\n",
    "        D[int(tab[i][1])] += 1\n",
    "    return max(D)\n",
    "\n",
    "kcn(distSorted,7)"
   ]
  },
  {
   "cell_type": "code",
   "execution_count": null,
   "metadata": {},
   "outputs": [],
   "source": [
    "global ogBaseNorm\n",
    "global toRefNorm\n",
    "\n",
    "def classify(ref,k):\n",
    "    for iris in ref:\n",
    "        spec = kcn(sorter(distance(iris,ogBaseNorm)),k)\n",
    "        iris[5] = spec\n",
    "    return ref\n",
    "\n",
    "reffed = [classify(toRefNorm,7)]   \n",
    "print(reffed)"
   ]
  },
  {
   "cell_type": "code",
   "execution_count": 34,
   "metadata": {},
   "outputs": [],
   "source": [
    "def becomeFlat(tab):\n",
    "    newTab = []\n",
    "    for i in range(0,len(tab)):\n",
    "        newTab.append([tab[i][0],tab[i][5]])\n",
    "    return newTab\n",
    "\n",
    "refExponentional=np.array([[  1.,   1.],[  2.,   1.],[  3.,   1.],[  4.,   1.],[  5.,   1.],[  6.,   1.],[  7.,   1.],[  8.,   1.],[  9.,   1.],[ 10.,   1.],[ 11.,   1.],[ 12.,   1.],[ 13.,   1.],[ 14.,   1.],[ 15.,   1.],[ 16.,   1.],[ 17.,   1.],[ 18.,   1.],[ 19.,   1.],[ 20.,   1.],[ 21.,   1.],[ 22.,   1.],[ 23.,   1.],[ 24.,   1.],[ 25.,   1.],[ 51.,   2.],[ 52.,   2.],[ 53.,   2.],[ 54.,   2.],[ 55.,   2.],[ 56.,   2.],[ 57.,   2.],[ 58.,   2.],[ 59.,   2.],[ 60.,   2.],[ 61.,   2.],[ 62.,   2.],[ 63.,   2.],[ 64.,   2.],[ 65.,   2.],[ 66.,   2.],[ 67.,   2.],[ 68.,   2.],[ 69.,   2.],[ 70.,   2.],[ 71.,   2.],[ 72.,   2.],[ 73.,   2.],[ 74.,   2.],[ 75.,   2.],[101.,   3.],[102.,   3.],[103.,   3.],[104.,   3.],[105.,   3.],[106.,   3.],[107.,   3.],[108.,   3.],[109.,   3.],[110.,   3.],[111.,   3.],[112.,   3.],[113.,   3.],[114.,   3.],[115.,   3.],[116.,   3.],[117.,   3.],[118.,   3.],[119.,   3.],[120.,   3.],[121.,   3.],[122.,   3.],[123.,   3.],[124.,   3.],[125.,   3.]])\n",
    "refAlgae = np.array([[  1.,   1.],[  2.,   1.],[  3.,   1.],[  4.,   1.],[  5.,   1.],[  6.,   1.],[  7.,   1.],[  8.,   1.],[  9.,   1.],[ 10.,   1.],[ 11.,   1.],[ 12.,   1.],[ 13.,   1.],[ 14.,   1.],[ 15.,   1.],[ 16.,   1.],[ 17.,   1.],[ 18.,   1.],[ 19.,   1.],[ 20.,   1.],[ 21.,   1.],[ 22.,   1.],[ 23.,   1.],[ 24.,   1.],[ 25.,   1.],[ 51.,   2.],[ 52.,   2.],[ 53.,   2.],[ 54.,   2.],[ 55.,   2.],[ 56.,   2.],[ 57.,   2.],[ 58.,   2.],[ 59.,   2.],[ 60.,   2.],[ 61.,   2.],[ 62.,   2.],[ 63.,   2.],[ 64.,   2.],[ 65.,   2.],[ 66.,   2.],[ 67.,   2.],[ 68.,   2.],[ 69.,   2.],[ 70.,   2.],[ 71.,   3.],[ 72.,   2.],[ 73.,   3.],[ 74.,   2.],[ 75.,   2.],[101.,   3.],[102.,   3.],[103.,   3.],[104.,   3.],[105.,   3.],[106.,   3.],[107.,   2.],[108.,   3.],[109.,   3.],[110.,   3.],[111.,   3.],[112.,   3.],[113.,   3.],[114.,   3.],[115.,   3.],[116.,   3.],[117.,   3.],[118.,   3.],[119.,   3.],[120.,   2.],[121.,   3.],[122.,   3.],[123.,   3.],[124.,   3.],[125.,   3.]])"
   ]
  },
  {
   "cell_type": "code",
   "execution_count": 43,
   "metadata": {},
   "outputs": [
    {
     "data": {
      "text/plain": [
       "3.0"
      ]
     },
     "execution_count": 43,
     "metadata": {},
     "output_type": "execute_result"
    }
   ],
   "source": [
    "refExponentional[-1][1]"
   ]
  },
  {
   "cell_type": "code",
   "execution_count": 48,
   "metadata": {},
   "outputs": [
    {
     "name": "stdout",
     "output_type": "stream",
     "text": [
      "[[0, 0, 0], [0, 0, 0], [0, 0, 0]]\n"
     ]
    }
   ],
   "source": [
    "def genMatr(mExp,mAlgo):\n",
    "    mFinal = [[0 for i in range(int(mExp[-1][1]))] for i in range(int(mExp[-1][1]))]\n",
    "    print(mFinal)\n",
    "    for i in range(len(mExp)) :\n",
    "        try:\n",
    "            mFinal[int(mExp[i][1])-1][int(mAlgo[i][1])-1] += 1\n",
    "        except:\n",
    "            print(f\"Exp val is {int(mExp[i][1])}\")\n",
    "            print(f\"Algae val is {int(mAlgo[i][1])}\")\n",
    "    return mFinal\n",
    "\n",
    "confusionMatrix = genMatr(refExponentional,refAlgae)\n",
    "\n"
   ]
  },
  {
   "cell_type": "code",
   "execution_count": 49,
   "metadata": {},
   "outputs": [
    {
     "data": {
      "text/plain": [
       "<AxesSubplot:>"
      ]
     },
     "execution_count": 49,
     "metadata": {},
     "output_type": "execute_result"
    },
    {
     "data": {
      "image/png": "[encoded data removed]",
      "text/plain": [
       "<Figure size 432x288 with 2 Axes>"
      ]
     },
     "metadata": {
      "needs_background": "light"
     },
     "output_type": "display_data"
    }
   ],
   "source": [
    "import seaborn as sns\n",
    "%matplotlib inline\n",
    "\n",
    "sns.heatmap(confusionMatrix,annot=True)"
   ]
  }
 ],
 "metadata": {
  "kernelspec": {
   "display_name": "base",
   "language": "python",
   "name": "python3"
  },
  "language_info": {
   "codemirror_mode": {
    "name": "ipython",
    "version": 3
   },
   "file_extension": ".py",
   "mimetype": "text/x-python",
   "name": "python",
   "nbconvert_exporter": "python",
   "pygments_lexer": "ipython3",
   "version": "3.9.7 (default, Sep 16 2021, 13:09:58) \n[GCC 7.5.0]"
  },
  "orig_nbformat": 4,
  "vscode": {
   "interpreter": {
    "hash": "8b8978116568b1d069d8e607a91d0e8d2589564d40c3c930313e1cdcd6b0112c"
   }
  }
 },
 "nbformat": 4,
 "nbformat_minor": 2
}
