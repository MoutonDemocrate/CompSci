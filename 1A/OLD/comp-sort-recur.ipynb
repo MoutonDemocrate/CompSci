{
 "cells": [
  {
   "cell_type": "code",
   "execution_count": 18,
   "metadata": {},
   "outputs": [],
   "source": [
    "from numpy import sqrt\n",
    "import matplotlib.pyplot as plt\n",
    "import random as rd\n",
    "\n",
    "x_coords = [1,6,7,3,5]\n",
    "y_coords = [3,2,5,4,9]"
   ]
  },
  {
   "attachments": {},
   "cell_type": "markdown",
   "metadata": {},
   "source": [
    "# Complexité - Tris - Récursivité\n",
    "\n",
    "## Problème : Points proches dans un plan\n",
    "\n",
    "### Q1"
   ]
  },
  {
   "cell_type": "code",
   "execution_count": 13,
   "metadata": {},
   "outputs": [
    {
     "name": "stdout",
     "output_type": "stream",
     "text": [
      "3.605551275463989\n"
     ]
    }
   ],
   "source": [
    "def dist(i,j):\n",
    "    return sqrt((x_coords[j] - x_coords[i])**2 + (y_coords[j] - y_coords[i])**2)\n",
    "\n",
    "print(dist(1,3))"
   ]
  },
  {
   "attachments": {},
   "cell_type": "markdown",
   "metadata": {},
   "source": [
    "### Q2\n",
    "\n",
    "Il sont stockés *mal*.\n",
    "\n",
    "### Q3"
   ]
  },
  {
   "cell_type": "code",
   "execution_count": 16,
   "metadata": {},
   "outputs": [
    {
     "name": "stdout",
     "output_type": "stream",
     "text": [
      "2.23606797749979 0 3\n"
     ]
    }
   ],
   "source": [
    "m = dist(0,1)\n",
    "i_m = 0\n",
    "j_m = 1\n",
    "for i in range(len(x_coords)) :\n",
    "    for j in range(len(x_coords)) :\n",
    "        if dist(i,j)<m and i!=j :\n",
    "            m,i_m,j_m = dist(i,j),i,j\n",
    "print(m,i_m,j_m)"
   ]
  },
  {
   "attachments": {},
   "cell_type": "markdown",
   "metadata": {},
   "source": [
    "### Q4\n",
    "$2 * n^2 \\equiv O(n²)$"
   ]
  },
  {
   "attachments": {},
   "cell_type": "markdown",
   "metadata": {},
   "source": [
    "### Q5"
   ]
  }
 ],
 "metadata": {
  "kernelspec": {
   "display_name": "base",
   "language": "python",
   "name": "python3"
  },
  "language_info": {
   "codemirror_mode": {
    "name": "ipython",
    "version": 3
   },
   "file_extension": ".py",
   "mimetype": "text/x-python",
   "name": "python",
   "nbconvert_exporter": "python",
   "pygments_lexer": "ipython3",
   "version": "3.9.7"
  },
  "orig_nbformat": 4,
  "vscode": {
   "interpreter": {
    "hash": "8b8978116568b1d069d8e607a91d0e8d2589564d40c3c930313e1cdcd6b0112c"
   }
  }
 },
 "nbformat": 4,
 "nbformat_minor": 2
}
