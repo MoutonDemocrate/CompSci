{
 "cells": [
  {
   "cell_type": "code",
   "execution_count": 2,
   "metadata": {},
   "outputs": [
    {
     "name": "stdout",
     "output_type": "stream",
     "text": [
      "```mermaid\n",
      "graph LR\n",
      " TAC --> ACC\n",
      " TAC --> ACG\n",
      " ACC --> CCG\n",
      " ACG --> CGT\n",
      " ACG --> CGC\n",
      " CAC --> ACC\n",
      " CAC --> ACG\n",
      " CCG --> CGT\n",
      " CCG --> CGC\n",
      " CGT --> GTA\n",
      " CGC --> GCA\n",
      " GCA --> CAC\n",
      " GTA --> TAC\n",
      "```\n"
     ]
    }
   ],
   "source": [
    "dna = [\n",
    "    \"TAC\",\n",
    "    \"ACC\",\n",
    "    \"ACG\",\n",
    "    \"CAC\",\n",
    "    \"CCG\",\n",
    "    \"CGT\",\n",
    "    \"CGC\",\n",
    "    \"GCA\",\n",
    "    \"GTA\"\n",
    "    \"\"\n",
    "]\n",
    "lines = \"\"\n",
    "for val in dna :\n",
    "    for val2 in dna:\n",
    "        if val[1:3] == val2[0:2] :\n",
    "            lines += f\" {val} --> {val2}\\n\" if f\"{val} --> {val2}\\n\" not in lines else None\n",
    "\n",
    "print(r\"```mermaid\"\n",
    "      +\"\\ngraph LR\\n\"\n",
    "      +lines\n",
    "      +r\"```\")"
   ]
  },
  {
   "attachments": {},
   "cell_type": "markdown",
   "metadata": {},
   "source": [
    "```mermaid\n",
    "graph LR\n",
    " TAC --> ACC\n",
    " TAC --> ACG\n",
    " ACC --> CCG\n",
    " ACG --> CGT\n",
    " ACG --> CGC\n",
    " CAC --> ACC\n",
    " CAC --> ACG\n",
    " CCG --> CGT\n",
    " CCG --> CGC\n",
    " CGT --> GTA\n",
    " CGC --> GCA\n",
    " GCA --> CAC\n",
    " GTA --> TAC\n",
    "```\n",
    "\n",
    "```mermaid\n",
    "graph LR\n",
    " TAC --> ACC\n",
    " TAC --> ACG\n",
    " ACC --> CCG\n",
    " ACG --> CGT\n",
    " ACG --> CGC\n",
    " CAC --> ACC\n",
    " CAC --> ACG\n",
    " CCG --> CGT\n",
    " CGC --> GCA\n",
    " GTA --> TAC\n",
    " CGT --> GTA\n",
    "```"
   ]
  },
  {
   "cell_type": "code",
   "execution_count": null,
   "metadata": {},
   "outputs": [],
   "source": []
  }
 ],
 "metadata": {
  "kernelspec": {
   "display_name": "base",
   "language": "python",
   "name": "python3"
  },
  "language_info": {
   "codemirror_mode": {
    "name": "ipython",
    "version": 3
   },
   "file_extension": ".py",
   "mimetype": "text/x-python",
   "name": "python",
   "nbconvert_exporter": "python",
   "pygments_lexer": "ipython3",
   "version": "3.9.7"
  },
  "orig_nbformat": 4
 },
 "nbformat": 4,
 "nbformat_minor": 2
}
