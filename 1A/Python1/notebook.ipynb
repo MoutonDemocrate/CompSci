{
 "cells": [
  {
   "cell_type": "markdown",
   "metadata": {},
   "source": [
    "# Python Notebook\n",
    "#### 2022-2023\n"
   ]
  },
  {
   "cell_type": "markdown",
   "metadata": {},
   "source": [
    "### TP2 - Distance de Levenshtein\n",
    "#### Ex 12\n",
    "\n",
    "DEMAIN<br>\n",
    "_EMAIN<br>\n",
    "__MAIN<br>\n",
    "__MATIN"
   ]
  },
  {
   "cell_type": "markdown",
   "metadata": {},
   "source": [
    "#### Ex 13\n",
    "\n",
    "__Cas de bases :__<br>\n",
    "$\\quad$ Si S est vide : on obtient T en ajoutant les lettres de T, donc d(S,T) = len(T)<br>\n",
    "$\\quad$ Si T est vide : on obtient T en supprimant les lettres de S, donc d(S,T) = len(S)"
   ]
  },
  {
   "cell_type": "markdown",
   "metadata": {},
   "source": [
    "#### Ex 14"
   ]
  },
  {
   "cell_type": "code",
   "execution_count": 15,
   "metadata": {},
   "outputs": [],
   "source": [
    "def distance_rec(S,k,T,n) :\n",
    "    if k == 0 :\n",
    "        return n\n",
    "    elif n == 0 :\n",
    "        return k\n",
    "\n",
    "    choix1 = 1 + distance_rec(S,k-1,T,n)\n",
    "    choix2 = 1 + distance_rec(S,k,T,n-1)\n",
    "\n",
    "    if S[k-1] == T[n-1] :\n",
    "        alpha = 0\n",
    "    else :\n",
    "        alpha = 1\n",
    "    \n",
    "    choix3 = alpha + distance_rec(S,k-1,T,n-1)\n",
    "\n",
    "    return min(choix1,choix2,choix3)"
   ]
  },
  {
   "cell_type": "code",
   "execution_count": 16,
   "metadata": {},
   "outputs": [
    {
     "data": {
      "text/plain": [
       "3"
      ]
     },
     "execution_count": 16,
     "metadata": {},
     "output_type": "execute_result"
    }
   ],
   "source": [
    "distance_rec(\"demain\",6,\"matin\",5)"
   ]
  },
  {
   "attachments": {},
   "cell_type": "markdown",
   "metadata": {},
   "source": [
    "#### Ex 15"
   ]
  },
  {
   "cell_type": "code",
   "execution_count": null,
   "metadata": {},
   "outputs": [],
   "source": [
    "def distance_memo(S,T):\n",
    "    k = len(S)\n",
    "    n = len(K)\n",
    "    \n",
    "    Dist = [[0 for i in n] for i in k]\n",
    "\n",
    "    for i in range(1,k+1):\n",
    "        for j in range(1,n+1):\n",
    "\n",
    "            Dist[i][j] = min(choix1,choix2,choix3)\n",
    "    \n",
    "    Dist[k][n]"
   ]
  }
 ],
 "metadata": {
  "interpreter": {
   "hash": "8b8978116568b1d069d8e607a91d0e8d2589564d40c3c930313e1cdcd6b0112c"
  },
  "kernelspec": {
   "display_name": "Python 3.9.7 ('base')",
   "language": "python",
   "name": "python3"
  },
  "language_info": {
   "codemirror_mode": {
    "name": "ipython",
    "version": 3
   },
   "file_extension": ".py",
   "mimetype": "text/x-python",
   "name": "python",
   "nbconvert_exporter": "python",
   "pygments_lexer": "ipython3",
   "version": "3.9.7 (default, Sep 16 2021, 13:09:58) \n[GCC 7.5.0]"
  },
  "orig_nbformat": 4
 },
 "nbformat": 4,
 "nbformat_minor": 2
}
